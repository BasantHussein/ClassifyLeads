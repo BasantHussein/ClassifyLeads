{
 "cells": [
  {
   "cell_type": "markdown",
   "metadata": {},
   "source": [
    "# Classify Leads\n",
    "## Data Preprocessing\n"
   ]
  },
  {
   "cell_type": "markdown",
   "metadata": {},
   "source": [
    "This notebook includes:\n",
    "\n",
    "1. Exploratory Data Analysis\n",
    "2. Data Cleaning\n",
    "3. Feature Engineering\n"
   ]
  },
  {
   "cell_type": "markdown",
   "metadata": {},
   "source": [
    "----\n",
    "## Exploratory Data Analysis\n"
   ]
  },
  {
   "cell_type": "code",
   "execution_count": 1,
   "metadata": {},
   "outputs": [
    {
     "name": "stdout",
     "output_type": "stream",
     "text": [
      "^C\n",
      "Note: you may need to restart the kernel to use updated packages.\n"
     ]
    }
   ],
   "source": [
    "pip install translate"
   ]
  },
  {
   "cell_type": "code",
   "execution_count": 91,
   "metadata": {},
   "outputs": [],
   "source": [
    "# Import libraries necessary for this project\n",
    "import numpy as np\n",
    "import pandas as pd\n",
    "from time import time\n",
    "import seaborn as sb\n",
    "import matplotlib.pyplot as plt\n",
    "from nltk.stem import WordNetLemmatizer\n",
    "import re\n",
    "from translate import Translator\n",
    "from nltk.corpus import names\n",
    "import datetime\n",
    "from sklearn.feature_extraction.text import CountVectorizer\n",
    "from nltk.tokenize import word_tokenize\n",
    "from sqlalchemy import create_engine\n",
    "\n",
    "# Pretty display for notebooks\n",
    "%matplotlib inline\n"
   ]
  },
  {
   "cell_type": "code",
   "execution_count": 2,
   "metadata": {},
   "outputs": [
    {
     "name": "stderr",
     "output_type": "stream",
     "text": [
      "C:\\Users\\EL7md\\anaconda3\\lib\\site-packages\\IPython\\core\\interactiveshell.py:3331: DtypeWarning: Columns (11) have mixed types.Specify dtype option on import or set low_memory=False.\n",
      "  exec(code_obj, self.user_global_ns, self.user_ns)\n"
     ]
    },
    {
     "data": {
      "text/html": [
       "<div>\n",
       "<style scoped>\n",
       "    .dataframe tbody tr th:only-of-type {\n",
       "        vertical-align: middle;\n",
       "    }\n",
       "\n",
       "    .dataframe tbody tr th {\n",
       "        vertical-align: top;\n",
       "    }\n",
       "\n",
       "    .dataframe thead th {\n",
       "        text-align: right;\n",
       "    }\n",
       "</style>\n",
       "<table border=\"1\" class=\"dataframe\">\n",
       "  <thead>\n",
       "    <tr style=\"text-align: right;\">\n",
       "      <th></th>\n",
       "      <th>lead_id</th>\n",
       "      <th>customer_name</th>\n",
       "      <th>lead_mobile_network</th>\n",
       "      <th>message</th>\n",
       "      <th>lead_time</th>\n",
       "      <th>method_of_contact</th>\n",
       "      <th>ad_group</th>\n",
       "      <th>lead_source</th>\n",
       "      <th>campaign</th>\n",
       "      <th>location</th>\n",
       "      <th>low_qualified</th>\n",
       "      <th>Unnamed: 11</th>\n",
       "      <th>Unnamed: 12</th>\n",
       "    </tr>\n",
       "  </thead>\n",
       "  <tbody>\n",
       "    <tr>\n",
       "      <th>0</th>\n",
       "      <td>22</td>\n",
       "      <td>Rajaa M.Mousa</td>\n",
       "      <td>Orange</td>\n",
       "      <td>message: Idea about  the best area in Sheik Za...</td>\n",
       "      <td>2022-03-07 12:56:20.523509</td>\n",
       "      <td>generic form</td>\n",
       "      <td>none</td>\n",
       "      <td>google</td>\n",
       "      <td>dev_-_sodic</td>\n",
       "      <td>sodic october plaza</td>\n",
       "      <td>0</td>\n",
       "      <td>NaN</td>\n",
       "      <td>NaN</td>\n",
       "    </tr>\n",
       "    <tr>\n",
       "      <th>1</th>\n",
       "      <td>30</td>\n",
       "      <td>Sahar Shalaby</td>\n",
       "      <td>Vodafone</td>\n",
       "      <td>ad_id : 23843176891470664 \\nform_id : 36774549...</td>\n",
       "      <td>2019-09-16 13:17:18.459000</td>\n",
       "      <td>facebook</td>\n",
       "      <td>o west - fb_creme de la creme_ cairo/giza_27-60</td>\n",
       "      <td>facebook</td>\n",
       "      <td>orascom - lead generation</td>\n",
       "      <td>o west</td>\n",
       "      <td>0</td>\n",
       "      <td>NaN</td>\n",
       "      <td>NaN</td>\n",
       "    </tr>\n",
       "    <tr>\n",
       "      <th>2</th>\n",
       "      <td>42</td>\n",
       "      <td>Mohamed</td>\n",
       "      <td>Vodafone</td>\n",
       "      <td>message:</td>\n",
       "      <td>2022-05-07 02:03:53.589687</td>\n",
       "      <td>generic form</td>\n",
       "      <td>gouna_-_properties</td>\n",
       "      <td>google</td>\n",
       "      <td>locations</td>\n",
       "      <td>el gouna for sale &amp; resale</td>\n",
       "      <td>0</td>\n",
       "      <td>NaN</td>\n",
       "      <td>NaN</td>\n",
       "    </tr>\n",
       "    <tr>\n",
       "      <th>3</th>\n",
       "      <td>44</td>\n",
       "      <td>Maher Elnakib</td>\n",
       "      <td>Orange</td>\n",
       "      <td>ad_id : 23844249544660664 \\nadset_id : 2384424...</td>\n",
       "      <td>2019-12-19 22:56:46.662000</td>\n",
       "      <td>facebook</td>\n",
       "      <td>new release north edge general with north coas...</td>\n",
       "      <td>facebook</td>\n",
       "      <td>city edge - lead generation</td>\n",
       "      <td>north edge</td>\n",
       "      <td>0</td>\n",
       "      <td>NaN</td>\n",
       "      <td>NaN</td>\n",
       "    </tr>\n",
       "    <tr>\n",
       "      <th>4</th>\n",
       "      <td>48</td>\n",
       "      <td>pierre</td>\n",
       "      <td>Vodafone</td>\n",
       "      <td>message:</td>\n",
       "      <td>2022-01-27 05:56:22.806753</td>\n",
       "      <td>top compounds form</td>\n",
       "      <td>none</td>\n",
       "      <td>google</td>\n",
       "      <td>dev_-_inertia_egypt</td>\n",
       "      <td>joulz</td>\n",
       "      <td>0</td>\n",
       "      <td>NaN</td>\n",
       "      <td>NaN</td>\n",
       "    </tr>\n",
       "  </tbody>\n",
       "</table>\n",
       "</div>"
      ],
      "text/plain": [
       "   lead_id  customer_name lead_mobile_network  \\\n",
       "0       22  Rajaa M.Mousa              Orange   \n",
       "1       30  Sahar Shalaby            Vodafone   \n",
       "2       42        Mohamed            Vodafone   \n",
       "3       44  Maher Elnakib              Orange   \n",
       "4       48         pierre            Vodafone   \n",
       "\n",
       "                                             message  \\\n",
       "0  message: Idea about  the best area in Sheik Za...   \n",
       "1  ad_id : 23843176891470664 \\nform_id : 36774549...   \n",
       "2                                          message:    \n",
       "3  ad_id : 23844249544660664 \\nadset_id : 2384424...   \n",
       "4                                          message:    \n",
       "\n",
       "                    lead_time   method_of_contact  \\\n",
       "0  2022-03-07 12:56:20.523509        generic form   \n",
       "1  2019-09-16 13:17:18.459000            facebook   \n",
       "2  2022-05-07 02:03:53.589687        generic form   \n",
       "3  2019-12-19 22:56:46.662000            facebook   \n",
       "4  2022-01-27 05:56:22.806753  top compounds form   \n",
       "\n",
       "                                            ad_group lead_source  \\\n",
       "0                                               none      google   \n",
       "1    o west - fb_creme de la creme_ cairo/giza_27-60    facebook   \n",
       "2                                 gouna_-_properties      google   \n",
       "3  new release north edge general with north coas...    facebook   \n",
       "4                                               none      google   \n",
       "\n",
       "                      campaign                    location low_qualified  \\\n",
       "0                  dev_-_sodic         sodic october plaza             0   \n",
       "1    orascom - lead generation                      o west             0   \n",
       "2                    locations  el gouna for sale & resale             0   \n",
       "3  city edge - lead generation                  north edge             0   \n",
       "4          dev_-_inertia_egypt                       joulz             0   \n",
       "\n",
       "  Unnamed: 11  Unnamed: 12  \n",
       "0         NaN          NaN  \n",
       "1         NaN          NaN  \n",
       "2         NaN          NaN  \n",
       "3         NaN          NaN  \n",
       "4         NaN          NaN  "
      ]
     },
     "execution_count": 2,
     "metadata": {},
     "output_type": "execute_result"
    }
   ],
   "source": [
    "# Load nawy dataset\n",
    "df = pd.read_csv(\"data/nawy_dataset.csv\")\n",
    "\n",
    "# display the dataset\n",
    "df.head()\n"
   ]
  },
  {
   "cell_type": "code",
   "execution_count": 3,
   "metadata": {},
   "outputs": [
    {
     "data": {
      "text/plain": [
       "(91129, 13)"
      ]
     },
     "execution_count": 3,
     "metadata": {},
     "output_type": "execute_result"
    }
   ],
   "source": [
    "# print the shape of the dataset\n",
    "df.shape"
   ]
  },
  {
   "cell_type": "code",
   "execution_count": 4,
   "metadata": {},
   "outputs": [
    {
     "name": "stdout",
     "output_type": "stream",
     "text": [
      "<class 'pandas.core.frame.DataFrame'>\n",
      "RangeIndex: 91129 entries, 0 to 91128\n",
      "Data columns (total 13 columns):\n",
      " #   Column               Non-Null Count  Dtype  \n",
      "---  ------               --------------  -----  \n",
      " 0   lead_id              91129 non-null  int64  \n",
      " 1   customer_name        91129 non-null  object \n",
      " 2   lead_mobile_network  91128 non-null  object \n",
      " 3   message              89091 non-null  object \n",
      " 4   lead_time            91129 non-null  object \n",
      " 5   method_of_contact    91129 non-null  object \n",
      " 6   ad_group             91057 non-null  object \n",
      " 7   lead_source          91129 non-null  object \n",
      " 8   campaign             90349 non-null  object \n",
      " 9   location             90980 non-null  object \n",
      " 10  low_qualified        91129 non-null  object \n",
      " 11  Unnamed: 11          8 non-null      object \n",
      " 12  Unnamed: 12          1 non-null      float64\n",
      "dtypes: float64(1), int64(1), object(11)\n",
      "memory usage: 9.0+ MB\n"
     ]
    }
   ],
   "source": [
    "# print the info of the data\n",
    "df.info()"
   ]
  },
  {
   "cell_type": "markdown",
   "metadata": {},
   "source": [
    "> There are null values and the data types are not appropriate."
   ]
  },
  {
   "cell_type": "code",
   "execution_count": 5,
   "metadata": {},
   "outputs": [
    {
     "data": {
      "text/plain": [
       "lead_id                    0\n",
       "customer_name              0\n",
       "lead_mobile_network        1\n",
       "message                 2038\n",
       "lead_time                  0\n",
       "method_of_contact          0\n",
       "ad_group                  72\n",
       "lead_source                0\n",
       "campaign                 780\n",
       "location                 149\n",
       "low_qualified              0\n",
       "Unnamed: 11            91121\n",
       "Unnamed: 12            91128\n",
       "dtype: int64"
      ]
     },
     "execution_count": 5,
     "metadata": {},
     "output_type": "execute_result"
    }
   ],
   "source": [
    "# check missing values\n",
    "df.isnull().sum()"
   ]
  },
  {
   "cell_type": "markdown",
   "metadata": {},
   "source": [
    "> There are null values in message, ad_group, campaign and location columns."
   ]
  },
  {
   "cell_type": "markdown",
   "metadata": {},
   "source": [
    "#### Explore the qualifed leads and unqualifed leads separately"
   ]
  },
  {
   "cell_type": "code",
   "execution_count": 6,
   "metadata": {},
   "outputs": [],
   "source": [
    "# function that returns the unique using specific dataset and feature\n",
    "def d_unique(data,feature):\n",
    "    \n",
    "    return data[feature].unique()"
   ]
  },
  {
   "cell_type": "code",
   "execution_count": 7,
   "metadata": {},
   "outputs": [],
   "source": [
    "# function that returns the number of unique using specific dataset and feature\n",
    "def n_unique(data,feature):\n",
    "    \n",
    "    return data[feature].nunique()"
   ]
  },
  {
   "cell_type": "code",
   "execution_count": 8,
   "metadata": {},
   "outputs": [
    {
     "data": {
      "text/html": [
       "<div>\n",
       "<style scoped>\n",
       "    .dataframe tbody tr th:only-of-type {\n",
       "        vertical-align: middle;\n",
       "    }\n",
       "\n",
       "    .dataframe tbody tr th {\n",
       "        vertical-align: top;\n",
       "    }\n",
       "\n",
       "    .dataframe thead th {\n",
       "        text-align: right;\n",
       "    }\n",
       "</style>\n",
       "<table border=\"1\" class=\"dataframe\">\n",
       "  <thead>\n",
       "    <tr style=\"text-align: right;\">\n",
       "      <th></th>\n",
       "      <th>lead_id</th>\n",
       "      <th>customer_name</th>\n",
       "      <th>lead_mobile_network</th>\n",
       "      <th>message</th>\n",
       "      <th>lead_time</th>\n",
       "      <th>method_of_contact</th>\n",
       "      <th>ad_group</th>\n",
       "      <th>lead_source</th>\n",
       "      <th>campaign</th>\n",
       "      <th>location</th>\n",
       "      <th>low_qualified</th>\n",
       "      <th>Unnamed: 11</th>\n",
       "      <th>Unnamed: 12</th>\n",
       "    </tr>\n",
       "  </thead>\n",
       "  <tbody>\n",
       "    <tr>\n",
       "      <th>7</th>\n",
       "      <td>70</td>\n",
       "      <td>Gaber youssef</td>\n",
       "      <td>Vodafone</td>\n",
       "      <td>location : https://old.nawy.com/prime-compound...</td>\n",
       "      <td>2021-10-03 21:58:29.602753</td>\n",
       "      <td>generic form</td>\n",
       "      <td>none</td>\n",
       "      <td>google</td>\n",
       "      <td>dev_-_sodic</td>\n",
       "      <td>sodic villette new cairo</td>\n",
       "      <td>1</td>\n",
       "      <td>NaN</td>\n",
       "      <td>NaN</td>\n",
       "    </tr>\n",
       "    <tr>\n",
       "      <th>110</th>\n",
       "      <td>995</td>\n",
       "      <td>نهي الكفافي</td>\n",
       "      <td>Vodafone</td>\n",
       "      <td>message:</td>\n",
       "      <td>2022-03-13 23:48:05.343299</td>\n",
       "      <td>website</td>\n",
       "      <td>none</td>\n",
       "      <td>website</td>\n",
       "      <td>sellmyproperty</td>\n",
       "      <td>maadi</td>\n",
       "      <td>1</td>\n",
       "      <td>NaN</td>\n",
       "      <td>NaN</td>\n",
       "    </tr>\n",
       "    <tr>\n",
       "      <th>111</th>\n",
       "      <td>998</td>\n",
       "      <td>Unknown</td>\n",
       "      <td>Vodafone</td>\n",
       "      <td>Called at 6:09 but did not receive the call on...</td>\n",
       "      <td>2021-12-05 16:09:05.114939</td>\n",
       "      <td>phone</td>\n",
       "      <td>none</td>\n",
       "      <td>phone</td>\n",
       "      <td>none</td>\n",
       "      <td>none</td>\n",
       "      <td>1</td>\n",
       "      <td>NaN</td>\n",
       "      <td>NaN</td>\n",
       "    </tr>\n",
       "    <tr>\n",
       "      <th>112</th>\n",
       "      <td>998</td>\n",
       "      <td>Unknown</td>\n",
       "      <td>Vodafone</td>\n",
       "      <td>Called at 6:09 but did not receive the call on...</td>\n",
       "      <td>2021-12-05 16:19:38.698440</td>\n",
       "      <td>phone</td>\n",
       "      <td>none</td>\n",
       "      <td>phone</td>\n",
       "      <td>none</td>\n",
       "      <td>none</td>\n",
       "      <td>1</td>\n",
       "      <td>NaN</td>\n",
       "      <td>NaN</td>\n",
       "    </tr>\n",
       "    <tr>\n",
       "      <th>113</th>\n",
       "      <td>998</td>\n",
       "      <td>Unknown</td>\n",
       "      <td>Vodafone</td>\n",
       "      <td>Called back now , no answer</td>\n",
       "      <td>2021-12-05 18:38:38.135197</td>\n",
       "      <td>phone</td>\n",
       "      <td>none</td>\n",
       "      <td>phone</td>\n",
       "      <td>none</td>\n",
       "      <td>none</td>\n",
       "      <td>1</td>\n",
       "      <td>NaN</td>\n",
       "      <td>NaN</td>\n",
       "    </tr>\n",
       "  </tbody>\n",
       "</table>\n",
       "</div>"
      ],
      "text/plain": [
       "     lead_id   customer_name lead_mobile_network  \\\n",
       "7         70  Gaber youssef             Vodafone   \n",
       "110      995     نهي الكفافي            Vodafone   \n",
       "111      998         Unknown            Vodafone   \n",
       "112      998         Unknown            Vodafone   \n",
       "113      998         Unknown            Vodafone   \n",
       "\n",
       "                                               message  \\\n",
       "7    location : https://old.nawy.com/prime-compound...   \n",
       "110                                          message:    \n",
       "111  Called at 6:09 but did not receive the call on...   \n",
       "112  Called at 6:09 but did not receive the call on...   \n",
       "113                       Called back now , no answer    \n",
       "\n",
       "                      lead_time method_of_contact ad_group lead_source  \\\n",
       "7    2021-10-03 21:58:29.602753      generic form     none      google   \n",
       "110  2022-03-13 23:48:05.343299           website     none     website   \n",
       "111  2021-12-05 16:09:05.114939             phone     none       phone   \n",
       "112  2021-12-05 16:19:38.698440             phone     none       phone   \n",
       "113  2021-12-05 18:38:38.135197             phone     none       phone   \n",
       "\n",
       "           campaign                  location low_qualified Unnamed: 11  \\\n",
       "7       dev_-_sodic  sodic villette new cairo             1         NaN   \n",
       "110  sellmyproperty                     maadi             1         NaN   \n",
       "111            none                      none             1         NaN   \n",
       "112            none                      none             1         NaN   \n",
       "113            none                      none             1         NaN   \n",
       "\n",
       "     Unnamed: 12  \n",
       "7            NaN  \n",
       "110          NaN  \n",
       "111          NaN  \n",
       "112          NaN  \n",
       "113          NaN  "
      ]
     },
     "execution_count": 8,
     "metadata": {},
     "output_type": "execute_result"
    }
   ],
   "source": [
    "# explore the qualified leads\n",
    "qua_df=df.query('low_qualified== \"1\"')\n",
    "qua_df.head()"
   ]
  },
  {
   "cell_type": "code",
   "execution_count": 9,
   "metadata": {},
   "outputs": [
    {
     "name": "stdout",
     "output_type": "stream",
     "text": [
      "15985\n",
      "75136\n"
     ]
    }
   ],
   "source": [
    "# check the count of qualifed and unqualifed lead \n",
    "print(df.query('low_qualified== \"1\"').shape[0])\n",
    "print(df.query('low_qualified== \"0\"').shape[0])"
   ]
  },
  {
   "cell_type": "markdown",
   "metadata": {},
   "source": [
    "> There is a huge difference between the two classes which mean that this dataset is imbalanced dataset."
   ]
  },
  {
   "cell_type": "code",
   "execution_count": 10,
   "metadata": {},
   "outputs": [
    {
     "data": {
      "text/plain": [
       "11050"
      ]
     },
     "execution_count": 10,
     "metadata": {},
     "output_type": "execute_result"
    }
   ],
   "source": [
    "# check the number of unique qualifed leads\n",
    "n_unique(qua_df,'lead_id')\n"
   ]
  },
  {
   "cell_type": "code",
   "execution_count": 11,
   "metadata": {},
   "outputs": [
    {
     "data": {
      "text/plain": [
       "61238"
      ]
     },
     "execution_count": 11,
     "metadata": {},
     "output_type": "execute_result"
    }
   ],
   "source": [
    "# check the number of unique unqualifed leads\n",
    "unqua_df=df.query('low_qualified== \"0\"')\n",
    "n_unique(unqua_df,'lead_id')\n"
   ]
  },
  {
   "cell_type": "markdown",
   "metadata": {},
   "source": [
    "> despite most of the leads in both are unique but the ratio between the unique qualifed to the total of its class is a bit smaller than the unqualifed leads which means that may the qualifed leads reached more than the unqualifed leads."
   ]
  },
  {
   "cell_type": "code",
   "execution_count": 12,
   "metadata": {},
   "outputs": [
    {
     "data": {
      "text/plain": [
       "array(['Vodafone', 'Orange', 'Etisalat', 'Gulf', 'US_Canda', 'Others',\n",
       "       'Europe', 'WE'], dtype=object)"
      ]
     },
     "execution_count": 12,
     "metadata": {},
     "output_type": "execute_result"
    }
   ],
   "source": [
    "# check the leads qualifed's network\n",
    "d_unique(qua_df,'lead_mobile_network')\n"
   ]
  },
  {
   "cell_type": "code",
   "execution_count": 13,
   "metadata": {},
   "outputs": [
    {
     "data": {
      "text/plain": [
       "array(['Orange', 'Vodafone', 'Etisalat', 'Gulf', 'US_Canda', 'Others',\n",
       "       'Europe', 'WE'], dtype=object)"
      ]
     },
     "execution_count": 13,
     "metadata": {},
     "output_type": "execute_result"
    }
   ],
   "source": [
    "# check the leads qualifed's network\n",
    "d_unique(unqua_df,'lead_mobile_network')\n"
   ]
  },
  {
   "cell_type": "markdown",
   "metadata": {},
   "source": [
    "> The lead mobile network in both qualifed and unqualifed is the same."
   ]
  },
  {
   "cell_type": "code",
   "execution_count": 14,
   "metadata": {},
   "outputs": [
    {
     "data": {
      "text/plain": [
       "15113"
      ]
     },
     "execution_count": 14,
     "metadata": {},
     "output_type": "execute_result"
    }
   ],
   "source": [
    "# check the count of qualifed leads inside egypt\n",
    "qua_df.query('lead_mobile_network ==\"Orange\" | lead_mobile_network ==\"Vodafone\" | lead_mobile_network ==\"Etisalat\" | lead_mobile_network ==\"Gulf\" | lead_mobile_network ==\"WE\"').shape[0]"
   ]
  },
  {
   "cell_type": "code",
   "execution_count": 15,
   "metadata": {},
   "outputs": [
    {
     "data": {
      "text/plain": [
       "71412"
      ]
     },
     "execution_count": 15,
     "metadata": {},
     "output_type": "execute_result"
    }
   ],
   "source": [
    "# check the count of unqualifed leads inside egypt\n",
    "unqua_df.query('lead_mobile_network ==\"Orange\" | lead_mobile_network ==\"Vodafone\" | lead_mobile_network ==\"Etisalat\" | lead_mobile_network ==\"Gulf\" | lead_mobile_network ==\"WE\"').shape[0]"
   ]
  },
  {
   "cell_type": "markdown",
   "metadata": {},
   "source": [
    "> In both qualifed and unqualifed lead the majoritory of leads are in Egypt, so this feature is not important."
   ]
  },
  {
   "cell_type": "code",
   "execution_count": 16,
   "metadata": {},
   "outputs": [
    {
     "data": {
      "text/plain": [
       "7        location : https://old.nawy.com/prime-compound...\n",
       "110                                              message: \n",
       "111      Called at 6:09 but did not receive the call on...\n",
       "112      Called at 6:09 but did not receive the call on...\n",
       "113                           Called back now , no answer \n",
       "                               ...                        \n",
       "90963    ad_id : 23850293639620664 \\nadgroup_id : 23850...\n",
       "90981    Ended the call when I answered, tried to call ...\n",
       "91017    Called out of working hours, called back twice...\n",
       "91045    ad_id : 23850671238270398 \\nadgroup_id : 23850...\n",
       "91086                       Owner in Hassan Allam projects\n",
       "Name: message, Length: 15985, dtype: object"
      ]
     },
     "execution_count": 16,
     "metadata": {},
     "output_type": "execute_result"
    }
   ],
   "source": [
    "# print message column of qualifed leads\n",
    "qua_df['message']"
   ]
  },
  {
   "cell_type": "code",
   "execution_count": 17,
   "metadata": {},
   "outputs": [
    {
     "data": {
      "text/plain": [
       "0        message: Idea about  the best area in Sheik Za...\n",
       "1        ad_id : 23843176891470664 \\nform_id : 36774549...\n",
       "2                                                message: \n",
       "3        ad_id : 23844249544660664 \\nadset_id : 2384424...\n",
       "4                                                message: \n",
       "                               ...                        \n",
       "91124    ad_id : 23850279525690562 \\nadgroup_id : 23850...\n",
       "91125    ad_id : 23850531682810398 \\nadgroup_id : 23850...\n",
       "91126                                            message: \n",
       "91127    ad_id : 23850616546710398 \\nadgroup_id : 23850...\n",
       "91128    ad_id : 23851345729510299 \\nadgroup_id : 23851...\n",
       "Name: message, Length: 75136, dtype: object"
      ]
     },
     "execution_count": 17,
     "metadata": {},
     "output_type": "execute_result"
    }
   ],
   "source": [
    "# print message column of unqualifed leads\n",
    "unqua_df['message']"
   ]
  },
  {
   "cell_type": "markdown",
   "metadata": {},
   "source": [
    "> In qualifed leads messages the word call is repeated which may mean that the qualifed leads used phone as a method of contact more than the unqualifed leads."
   ]
  },
  {
   "cell_type": "code",
   "execution_count": 18,
   "metadata": {},
   "outputs": [
    {
     "data": {
      "text/plain": [
       "1520"
      ]
     },
     "execution_count": 18,
     "metadata": {},
     "output_type": "execute_result"
    }
   ],
   "source": [
    "# check the number of qualifed leads who contacted using phone\n",
    "qua_df.query('method_of_contact==\"phone\"').shape[0]\n"
   ]
  },
  {
   "cell_type": "code",
   "execution_count": 19,
   "metadata": {},
   "outputs": [
    {
     "data": {
      "text/plain": [
       "6357"
      ]
     },
     "execution_count": 19,
     "metadata": {},
     "output_type": "execute_result"
    }
   ],
   "source": [
    "# check the number of unqualifed leads who contacted using phone\n",
    "unqua_df.query('method_of_contact==\"phone\"').shape[0]"
   ]
  },
  {
   "cell_type": "markdown",
   "metadata": {},
   "source": [
    "> The difference between the ratio of qualifed leads who contacted using phone and the unqualifed leads who contacted using phone is very small, so I can't say that the qualifed leads used phone as a method of contact more than the unqualifed leads."
   ]
  },
  {
   "cell_type": "code",
   "execution_count": 20,
   "metadata": {},
   "outputs": [
    {
     "data": {
      "text/plain": [
       "30                                                     NaN\n",
       "34                                                     NaN\n",
       "35                                                     NaN\n",
       "48                                Asked about 2O6 compound\n",
       "54                                         will call agian\n",
       "                               ...                        \n",
       "90982                     Interested in El-Shorouk as well\n",
       "90996    He saw a project in Zayed with 10 years paymen...\n",
       "91029                    Interested in new capital as well\n",
       "91116    Preferred to be contacted on whatsapp because ...\n",
       "91117    Asking about a project  with 8 years payment plan\n",
       "Name: message, Length: 6357, dtype: object"
      ]
     },
     "execution_count": 20,
     "metadata": {},
     "output_type": "execute_result"
    }
   ],
   "source": [
    "# print the messages of unqualifed leads who contacted using phone\n",
    "pho_unqua_df=unqua_df.query('method_of_contact==\"phone\"')\n",
    "pho_unqua_df['message']"
   ]
  },
  {
   "cell_type": "code",
   "execution_count": 21,
   "metadata": {},
   "outputs": [
    {
     "data": {
      "text/plain": [
       "60"
      ]
     },
     "execution_count": 21,
     "metadata": {},
     "output_type": "execute_result"
    }
   ],
   "source": [
    "# print the number unique methods of contacts to qualifed users\n",
    "n_unique(qua_df,'method_of_contact')\n"
   ]
  },
  {
   "cell_type": "code",
   "execution_count": 22,
   "metadata": {},
   "outputs": [
    {
     "data": {
      "text/plain": [
       "array(['generic form', 'website', 'phone', 'facebook', 'vodafone',\n",
       "       'form adwords', 'client referral', 'organic form',\n",
       "       'organic form direct', 'top compounds form', 'whatsapp', 'google',\n",
       "       'intercom', 'form facebook', 'personal', 'com.google.android.gm',\n",
       "       'personal/ghanima', 'l.facebook.com', 'top component form',\n",
       "       'smbsalesimplementation.my.salesforce.com', 'newchat.ktree.org',\n",
       "       'personal/rafea', 'personal aly', 'generic contact us', 'app',\n",
       "       'facebook message', 'bing.com', 'facebook comment',\n",
       "       'search.yahoo.com', 'r.search.yahoo.com', 'linkedin',\n",
       "       'form src=linkedin', 'form', 'realestatechamber-eg.com',\n",
       "       'facebook page referral', 'callcenter', 'referral', 'resale form',\n",
       "       'facebook messenger', 'type form', 'criteo', 'top.criteo.com',\n",
       "       'youtube.com', 'instagram messenger', 'instagram page referral',\n",
       "       'instagram comment', 'lm.facebook.com', 'localhost', 'blog',\n",
       "       'semrush.com', 'newsletter', 'acgdigitalmarketing.com',\n",
       "       'egyptianstreets.com', 'tishare.com', 'url-opener.com',\n",
       "       'ventsmagazine.com', 'timebusinessnews.com', 'realitypaper.com',\n",
       "       'newshunt360.com', 'english.ahram.org.eg'], dtype=object)"
      ]
     },
     "execution_count": 22,
     "metadata": {},
     "output_type": "execute_result"
    }
   ],
   "source": [
    "# print the methods of contacts to qualifed users\n",
    "d_unique(qua_df,'method_of_contact')\n"
   ]
  },
  {
   "cell_type": "code",
   "execution_count": 23,
   "metadata": {},
   "outputs": [
    {
     "data": {
      "text/plain": [
       "108"
      ]
     },
     "execution_count": 23,
     "metadata": {},
     "output_type": "execute_result"
    }
   ],
   "source": [
    "# print the number unique methods of contacts to unqualifed users\n",
    "n_unique(unqua_df,'method_of_contact')\n"
   ]
  },
  {
   "cell_type": "code",
   "execution_count": 24,
   "metadata": {},
   "outputs": [
    {
     "data": {
      "text/plain": [
       "array(['generic form', 'facebook', 'top compounds form', 'whatsapp',\n",
       "       'organic form', 'form adwords', 'phone', 'r.search.yahoo.com',\n",
       "       'app', 'intercom', 'organic form direct', 'facebook page referral',\n",
       "       'm.nearbyme.io', 'referral', 'ecosia.org', 'website',\n",
       "       'egyptianstreets.com', 'management referral', 'search.yahoo.com',\n",
       "       'google', 'call center resale', 'facebook messenger',\n",
       "       'generic contact us', 'omar bebars/referral', 'top component form',\n",
       "       'l.facebook.com', 'vodafone', 'client referral', 'personal',\n",
       "       'facebook message', 'facebook comment', 'personal/ghanima',\n",
       "       'client/referral', 'personal aly', 'us.search.yahoo.com',\n",
       "       'bing.com', 'referral from nadine amr', 'fb messenger',\n",
       "       'www-cooingestate-com.cdn.ampproject.org',\n",
       "       'com.google.android.googlequicksearchbox',\n",
       "       'social buildingz campaign', 'int.search.myway.com',\n",
       "       'lm.facebook.com', 'personal/referral',\n",
       "       'facebook message (auc group)', 'personal/refea', 'personal/rafea',\n",
       "       'personal/refae', 'personal/reafea', 'personal/location',\n",
       "       'residencestyle.com', 'blogwritr.com', 'whastapp',\n",
       "       'personal referral / amany', 'uk.search.yahoo.com',\n",
       "       'personal attia', 'personal referral / ghanima',\n",
       "       'instagram page referral', 'app.neilpatel.com',\n",
       "       'instagram message', 'instagram comment', 'whatapp',\n",
       "       'personal abdo', 'resale form', 'whastsapp', 'personal/aly',\n",
       "       'propertyfinder', 'm.akhbarelyom.com', 'custom form',\n",
       "       'personal - amany', 'form src=newsletter', 'localhost',\n",
       "       'console.firebase.google.com', 'apps.apple.com', 'callcenter',\n",
       "       'google lead form', 'personal aly rafea', 'cooing client',\n",
       "       'referral ghanima', 'personal - abdel-azim', 'managment referral',\n",
       "       'form', 'cold call', 'duckduckgo.com', 'form facebook', 'linkedin',\n",
       "       'management/referral (nada)', 'ca.search.yahoo.com',\n",
       "       'personal/azzam', 'personal/ghanim', 'sahel_map_form',\n",
       "       'personal/ gena', 'test', 'management/referral', 'fb comment',\n",
       "       'call', 'nawy.com', 'instagram messenger', 'egyptinnovate.com',\n",
       "       'linkedin.com', '(none)', 'org.telegram.messenger', 'vercel.com',\n",
       "       'type form', 'instagram', 'criteo', 'akhbarak.net',\n",
       "       'ampproject.org'], dtype=object)"
      ]
     },
     "execution_count": 24,
     "metadata": {},
     "output_type": "execute_result"
    }
   ],
   "source": [
    "# print the unique method of contacts to unqualifed users\n",
    "d_unique(unqua_df,'method_of_contact')\n"
   ]
  },
  {
   "cell_type": "markdown",
   "metadata": {},
   "source": [
    "> Methods of contact in qualifed leads are smaller that that of unqualifed leads."
   ]
  },
  {
   "cell_type": "code",
   "execution_count": 25,
   "metadata": {},
   "outputs": [
    {
     "data": {
      "text/plain": [
       "lead_id                    0\n",
       "customer_name              0\n",
       "lead_mobile_network        0\n",
       "message                  114\n",
       "lead_time                  0\n",
       "method_of_contact          0\n",
       "ad_group                   6\n",
       "lead_source                0\n",
       "campaign                 148\n",
       "location                  22\n",
       "low_qualified              0\n",
       "Unnamed: 11            15985\n",
       "Unnamed: 12            15985\n",
       "dtype: int64"
      ]
     },
     "execution_count": 25,
     "metadata": {},
     "output_type": "execute_result"
    }
   ],
   "source": [
    "# check missing values of qualifed leads\n",
    "qua_df.isnull().sum()"
   ]
  },
  {
   "cell_type": "code",
   "execution_count": 26,
   "metadata": {},
   "outputs": [
    {
     "data": {
      "text/plain": [
       "0"
      ]
     },
     "execution_count": 26,
     "metadata": {},
     "output_type": "execute_result"
    }
   ],
   "source": [
    "# check duplicates in unqualifed leads\n",
    "unqua_df.duplicated().sum()"
   ]
  },
  {
   "cell_type": "markdown",
   "metadata": {},
   "source": [
    "### Data Cleaning\n"
   ]
  },
  {
   "cell_type": "code",
   "execution_count": 27,
   "metadata": {},
   "outputs": [
    {
     "data": {
      "text/html": [
       "<div>\n",
       "<style scoped>\n",
       "    .dataframe tbody tr th:only-of-type {\n",
       "        vertical-align: middle;\n",
       "    }\n",
       "\n",
       "    .dataframe tbody tr th {\n",
       "        vertical-align: top;\n",
       "    }\n",
       "\n",
       "    .dataframe thead th {\n",
       "        text-align: right;\n",
       "    }\n",
       "</style>\n",
       "<table border=\"1\" class=\"dataframe\">\n",
       "  <thead>\n",
       "    <tr style=\"text-align: right;\">\n",
       "      <th></th>\n",
       "      <th>lead_id</th>\n",
       "      <th>customer_name</th>\n",
       "      <th>message</th>\n",
       "      <th>lead_time</th>\n",
       "      <th>method_of_contact</th>\n",
       "      <th>ad_group</th>\n",
       "      <th>lead_source</th>\n",
       "      <th>campaign</th>\n",
       "      <th>location</th>\n",
       "      <th>low_qualified</th>\n",
       "    </tr>\n",
       "  </thead>\n",
       "  <tbody>\n",
       "    <tr>\n",
       "      <th>0</th>\n",
       "      <td>22</td>\n",
       "      <td>Rajaa M.Mousa</td>\n",
       "      <td>message: Idea about  the best area in Sheik Za...</td>\n",
       "      <td>2022-03-07 12:56:20.523509</td>\n",
       "      <td>generic form</td>\n",
       "      <td>none</td>\n",
       "      <td>google</td>\n",
       "      <td>dev_-_sodic</td>\n",
       "      <td>sodic october plaza</td>\n",
       "      <td>0</td>\n",
       "    </tr>\n",
       "    <tr>\n",
       "      <th>1</th>\n",
       "      <td>30</td>\n",
       "      <td>Sahar Shalaby</td>\n",
       "      <td>ad_id : 23843176891470664 \\nform_id : 36774549...</td>\n",
       "      <td>2019-09-16 13:17:18.459000</td>\n",
       "      <td>facebook</td>\n",
       "      <td>o west - fb_creme de la creme_ cairo/giza_27-60</td>\n",
       "      <td>facebook</td>\n",
       "      <td>orascom - lead generation</td>\n",
       "      <td>o west</td>\n",
       "      <td>0</td>\n",
       "    </tr>\n",
       "    <tr>\n",
       "      <th>2</th>\n",
       "      <td>42</td>\n",
       "      <td>Mohamed</td>\n",
       "      <td>message:</td>\n",
       "      <td>2022-05-07 02:03:53.589687</td>\n",
       "      <td>generic form</td>\n",
       "      <td>gouna_-_properties</td>\n",
       "      <td>google</td>\n",
       "      <td>locations</td>\n",
       "      <td>el gouna for sale &amp; resale</td>\n",
       "      <td>0</td>\n",
       "    </tr>\n",
       "    <tr>\n",
       "      <th>3</th>\n",
       "      <td>44</td>\n",
       "      <td>Maher Elnakib</td>\n",
       "      <td>ad_id : 23844249544660664 \\nadset_id : 2384424...</td>\n",
       "      <td>2019-12-19 22:56:46.662000</td>\n",
       "      <td>facebook</td>\n",
       "      <td>new release north edge general with north coas...</td>\n",
       "      <td>facebook</td>\n",
       "      <td>city edge - lead generation</td>\n",
       "      <td>north edge</td>\n",
       "      <td>0</td>\n",
       "    </tr>\n",
       "    <tr>\n",
       "      <th>4</th>\n",
       "      <td>48</td>\n",
       "      <td>pierre</td>\n",
       "      <td>message:</td>\n",
       "      <td>2022-01-27 05:56:22.806753</td>\n",
       "      <td>top compounds form</td>\n",
       "      <td>none</td>\n",
       "      <td>google</td>\n",
       "      <td>dev_-_inertia_egypt</td>\n",
       "      <td>joulz</td>\n",
       "      <td>0</td>\n",
       "    </tr>\n",
       "  </tbody>\n",
       "</table>\n",
       "</div>"
      ],
      "text/plain": [
       "   lead_id  customer_name                                            message  \\\n",
       "0       22  Rajaa M.Mousa  message: Idea about  the best area in Sheik Za...   \n",
       "1       30  Sahar Shalaby  ad_id : 23843176891470664 \\nform_id : 36774549...   \n",
       "2       42        Mohamed                                          message:    \n",
       "3       44  Maher Elnakib  ad_id : 23844249544660664 \\nadset_id : 2384424...   \n",
       "4       48         pierre                                          message:    \n",
       "\n",
       "                    lead_time   method_of_contact  \\\n",
       "0  2022-03-07 12:56:20.523509        generic form   \n",
       "1  2019-09-16 13:17:18.459000            facebook   \n",
       "2  2022-05-07 02:03:53.589687        generic form   \n",
       "3  2019-12-19 22:56:46.662000            facebook   \n",
       "4  2022-01-27 05:56:22.806753  top compounds form   \n",
       "\n",
       "                                            ad_group lead_source  \\\n",
       "0                                               none      google   \n",
       "1    o west - fb_creme de la creme_ cairo/giza_27-60    facebook   \n",
       "2                                 gouna_-_properties      google   \n",
       "3  new release north edge general with north coas...    facebook   \n",
       "4                                               none      google   \n",
       "\n",
       "                      campaign                    location low_qualified  \n",
       "0                  dev_-_sodic         sodic october plaza             0  \n",
       "1    orascom - lead generation                      o west             0  \n",
       "2                    locations  el gouna for sale & resale             0  \n",
       "3  city edge - lead generation                  north edge             0  \n",
       "4          dev_-_inertia_egypt                       joulz             0  "
      ]
     },
     "execution_count": 27,
     "metadata": {},
     "output_type": "execute_result"
    }
   ],
   "source": [
    "# drop lead mobile network,and the last two columns\n",
    "df.drop(['lead_mobile_network','Unnamed: 11','Unnamed: 12'],axis=1,inplace=True)\n",
    "df.head()"
   ]
  },
  {
   "cell_type": "code",
   "execution_count": 28,
   "metadata": {},
   "outputs": [],
   "source": [
    "# fill null values of location column with the ad-group column\n",
    "df['location'].fillna(df['ad_group'],inplace=True)\n",
    "# fill null values of campaign with location\n",
    "df['campaign'].fillna(df['location'],inplace=True)"
   ]
  },
  {
   "cell_type": "code",
   "execution_count": 29,
   "metadata": {},
   "outputs": [],
   "source": [
    "# drop ad_group column\n",
    "df.drop(['ad_group'],axis=1,inplace=True)\n"
   ]
  },
  {
   "cell_type": "code",
   "execution_count": 30,
   "metadata": {},
   "outputs": [],
   "source": [
    "# drop null values of location column\n",
    "df.dropna(subset=['location'],axis=0,inplace=True)\n"
   ]
  },
  {
   "cell_type": "code",
   "execution_count": 31,
   "metadata": {},
   "outputs": [],
   "source": [
    "# drop all the remaining null values\n",
    "df.dropna(inplace=True)"
   ]
  },
  {
   "cell_type": "code",
   "execution_count": 32,
   "metadata": {},
   "outputs": [
    {
     "data": {
      "text/plain": [
       "lead_id              0\n",
       "customer_name        0\n",
       "message              0\n",
       "lead_time            0\n",
       "method_of_contact    0\n",
       "lead_source          0\n",
       "campaign             0\n",
       "location             0\n",
       "low_qualified        0\n",
       "dtype: int64"
      ]
     },
     "execution_count": 32,
     "metadata": {},
     "output_type": "execute_result"
    }
   ],
   "source": [
    "# check null values\n",
    "df.isnull().sum()"
   ]
  },
  {
   "cell_type": "code",
   "execution_count": 33,
   "metadata": {},
   "outputs": [
    {
     "data": {
      "text/plain": [
       "(89089, 9)"
      ]
     },
     "execution_count": 33,
     "metadata": {},
     "output_type": "execute_result"
    }
   ],
   "source": [
    "# check the shape of the dataset\n",
    "df.shape"
   ]
  },
  {
   "cell_type": "code",
   "execution_count": 34,
   "metadata": {},
   "outputs": [],
   "source": [
    "# convert the datatype to string\n",
    "columns=['customer_name','message','method_of_contact','lead_source','campaign','location']\n",
    "\n",
    "df[columns] = df[columns].astype(\"string\")\n"
   ]
  },
  {
   "cell_type": "code",
   "execution_count": 35,
   "metadata": {},
   "outputs": [
    {
     "data": {
      "text/plain": [
       "8"
      ]
     },
     "execution_count": 35,
     "metadata": {},
     "output_type": "execute_result"
    }
   ],
   "source": [
    "# check the number of unique in low_qualifed column\n",
    "n_unique(df,'low_qualified')\n"
   ]
  },
  {
   "cell_type": "code",
   "execution_count": 36,
   "metadata": {},
   "outputs": [
    {
     "data": {
      "text/plain": [
       "array(['0', '1', 'club residences', 'none', 'ora',\n",
       "       'mountain view ras el hekma', 'address east', 'newshunt360.com'],\n",
       "      dtype=object)"
      ]
     },
     "execution_count": 36,
     "metadata": {},
     "output_type": "execute_result"
    }
   ],
   "source": [
    "# check the  unique in low_qualifed column\n",
    "d_unique(df,'low_qualified')\n"
   ]
  },
  {
   "cell_type": "code",
   "execution_count": 37,
   "metadata": {},
   "outputs": [],
   "source": [
    "# remove the rows in which low_qualifed feature not equal 0 or 1\n",
    "df=df.query('low_qualified==\"0\" | low_qualified==\"1\"')"
   ]
  },
  {
   "cell_type": "code",
   "execution_count": 38,
   "metadata": {},
   "outputs": [
    {
     "data": {
      "text/plain": [
       "(89081, 9)"
      ]
     },
     "execution_count": 38,
     "metadata": {},
     "output_type": "execute_result"
    }
   ],
   "source": [
    "df.shape"
   ]
  },
  {
   "cell_type": "code",
   "execution_count": 39,
   "metadata": {},
   "outputs": [],
   "source": [
    "# change the datatype of low_qualified to numeric\n",
    "df['low_qualified'] = df['low_qualified'].apply(pd.to_numeric)"
   ]
  },
  {
   "cell_type": "code",
   "execution_count": 40,
   "metadata": {},
   "outputs": [],
   "source": [
    "# convert lead_time datatype to datetime\n",
    "df['lead_time'] = pd.to_datetime(df['lead_time'], errors='coerce')"
   ]
  },
  {
   "cell_type": "code",
   "execution_count": 41,
   "metadata": {},
   "outputs": [
    {
     "name": "stdout",
     "output_type": "stream",
     "text": [
      "<class 'pandas.core.frame.DataFrame'>\n",
      "Int64Index: 89081 entries, 0 to 91128\n",
      "Data columns (total 9 columns):\n",
      " #   Column             Non-Null Count  Dtype         \n",
      "---  ------             --------------  -----         \n",
      " 0   lead_id            89081 non-null  int64         \n",
      " 1   customer_name      89081 non-null  string        \n",
      " 2   message            89081 non-null  string        \n",
      " 3   lead_time          89081 non-null  datetime64[ns]\n",
      " 4   method_of_contact  89081 non-null  string        \n",
      " 5   lead_source        89081 non-null  string        \n",
      " 6   campaign           89081 non-null  string        \n",
      " 7   location           89081 non-null  string        \n",
      " 8   low_qualified      89081 non-null  int64         \n",
      "dtypes: datetime64[ns](1), int64(2), string(6)\n",
      "memory usage: 6.8 MB\n"
     ]
    }
   ],
   "source": [
    "df.info()"
   ]
  },
  {
   "cell_type": "code",
   "execution_count": 42,
   "metadata": {},
   "outputs": [
    {
     "data": {
      "text/plain": [
       "0"
      ]
     },
     "execution_count": 42,
     "metadata": {},
     "output_type": "execute_result"
    }
   ],
   "source": [
    "# check if there is a not a time value in lead_time\n",
    "df.query('lead_time==\"NaT\"').shape[0]"
   ]
  },
  {
   "cell_type": "code",
   "execution_count": 43,
   "metadata": {},
   "outputs": [],
   "source": [
    "# drop method of contact and location columns\n",
    "df.drop(['method_of_contact','location'],axis=1,inplace=True)\n"
   ]
  },
  {
   "cell_type": "markdown",
   "metadata": {},
   "source": [
    "> I decided to drop method of contact column as I found a relation or correlation between it and lead_source variable, also there is a relation between campaign and location variables."
   ]
  },
  {
   "cell_type": "code",
   "execution_count": 44,
   "metadata": {},
   "outputs": [],
   "source": [
    "# process of string features\n",
    "def text_preprocess(text):\n",
    "    #remove links\n",
    "    text = re.sub(r'https?:\\/\\/.*', '', text)\n",
    "    # replace numbers\n",
    "    text = re.sub(\"\\d+\", \" \", text)\n",
    "    #remove keywords\n",
    "    #text = re.sub(r'[^\\w]+ :', ' ', text)\n",
    "    # replace not word characters    \n",
    "    text = re.sub(r'[^\\w]+', ' ', text)\n",
    "    # replace underscore\n",
    "    text = re.sub(r'_', ' ', text)\n",
    "    # replace words\n",
    "    text = re.sub(r'dev', ' ', text)\n",
    "    # convert string to lowercase\n",
    "    text=text.lower().strip()\n",
    "    # remove extra spaces\n",
    "    text=re.sub(' +', ' ',text)\n",
    "    # Lemmatize the word\n",
    "    lem=WordNetLemmatizer()\n",
    "    lem.lemmatize(text)\n",
    "    return text\n",
    "\n",
    "    "
   ]
  },
  {
   "cell_type": "code",
   "execution_count": 45,
   "metadata": {},
   "outputs": [],
   "source": [
    "# apply the text_preprocess function to the text columns\n",
    "df['campaign']=df['campaign'].apply(lambda t:   text_preprocess(t))\n",
    "df['lead_source']=df['lead_source'].apply(lambda t:   text_preprocess(t))\n",
    "#df['message']=df['message'].apply(lambda t:   text_preprocess(t))"
   ]
  },
  {
   "cell_type": "code",
   "execution_count": 46,
   "metadata": {},
   "outputs": [
    {
     "data": {
      "text/html": [
       "<div>\n",
       "<style scoped>\n",
       "    .dataframe tbody tr th:only-of-type {\n",
       "        vertical-align: middle;\n",
       "    }\n",
       "\n",
       "    .dataframe tbody tr th {\n",
       "        vertical-align: top;\n",
       "    }\n",
       "\n",
       "    .dataframe thead th {\n",
       "        text-align: right;\n",
       "    }\n",
       "</style>\n",
       "<table border=\"1\" class=\"dataframe\">\n",
       "  <thead>\n",
       "    <tr style=\"text-align: right;\">\n",
       "      <th></th>\n",
       "      <th>lead_id</th>\n",
       "      <th>customer_name</th>\n",
       "      <th>message</th>\n",
       "      <th>lead_time</th>\n",
       "      <th>lead_source</th>\n",
       "      <th>campaign</th>\n",
       "      <th>low_qualified</th>\n",
       "    </tr>\n",
       "  </thead>\n",
       "  <tbody>\n",
       "    <tr>\n",
       "      <th>0</th>\n",
       "      <td>22</td>\n",
       "      <td>Rajaa M.Mousa</td>\n",
       "      <td>message: Idea about  the best area in Sheik Za...</td>\n",
       "      <td>2022-03-07 12:56:20.523509</td>\n",
       "      <td>google</td>\n",
       "      <td>sodic</td>\n",
       "      <td>0</td>\n",
       "    </tr>\n",
       "    <tr>\n",
       "      <th>1</th>\n",
       "      <td>30</td>\n",
       "      <td>Sahar Shalaby</td>\n",
       "      <td>ad_id : 23843176891470664 \n",
       "form_id : 367745493...</td>\n",
       "      <td>2019-09-16 13:17:18.459000</td>\n",
       "      <td>facebook</td>\n",
       "      <td>orascom lead generation</td>\n",
       "      <td>0</td>\n",
       "    </tr>\n",
       "    <tr>\n",
       "      <th>2</th>\n",
       "      <td>42</td>\n",
       "      <td>Mohamed</td>\n",
       "      <td>message:</td>\n",
       "      <td>2022-05-07 02:03:53.589687</td>\n",
       "      <td>google</td>\n",
       "      <td>locations</td>\n",
       "      <td>0</td>\n",
       "    </tr>\n",
       "    <tr>\n",
       "      <th>3</th>\n",
       "      <td>44</td>\n",
       "      <td>Maher Elnakib</td>\n",
       "      <td>ad_id : 23844249544660664 \n",
       "adset_id : 23844249...</td>\n",
       "      <td>2019-12-19 22:56:46.662000</td>\n",
       "      <td>facebook</td>\n",
       "      <td>city edge lead generation</td>\n",
       "      <td>0</td>\n",
       "    </tr>\n",
       "    <tr>\n",
       "      <th>4</th>\n",
       "      <td>48</td>\n",
       "      <td>pierre</td>\n",
       "      <td>message:</td>\n",
       "      <td>2022-01-27 05:56:22.806753</td>\n",
       "      <td>google</td>\n",
       "      <td>inertia egypt</td>\n",
       "      <td>0</td>\n",
       "    </tr>\n",
       "  </tbody>\n",
       "</table>\n",
       "</div>"
      ],
      "text/plain": [
       "   lead_id  customer_name                                            message  \\\n",
       "0       22  Rajaa M.Mousa  message: Idea about  the best area in Sheik Za...   \n",
       "1       30  Sahar Shalaby  ad_id : 23843176891470664 \n",
       "form_id : 367745493...   \n",
       "2       42        Mohamed                                          message:    \n",
       "3       44  Maher Elnakib  ad_id : 23844249544660664 \n",
       "adset_id : 23844249...   \n",
       "4       48         pierre                                          message:    \n",
       "\n",
       "                   lead_time lead_source                   campaign  \\\n",
       "0 2022-03-07 12:56:20.523509      google                      sodic   \n",
       "1 2019-09-16 13:17:18.459000    facebook    orascom lead generation   \n",
       "2 2022-05-07 02:03:53.589687      google                  locations   \n",
       "3 2019-12-19 22:56:46.662000    facebook  city edge lead generation   \n",
       "4 2022-01-27 05:56:22.806753      google              inertia egypt   \n",
       "\n",
       "   low_qualified  \n",
       "0              0  \n",
       "1              0  \n",
       "2              0  \n",
       "3              0  \n",
       "4              0  "
      ]
     },
     "execution_count": 46,
     "metadata": {},
     "output_type": "execute_result"
    }
   ],
   "source": [
    "df.head()"
   ]
  },
  {
   "cell_type": "code",
   "execution_count": 47,
   "metadata": {},
   "outputs": [
    {
     "data": {
      "text/plain": [
       "119"
      ]
     },
     "execution_count": 47,
     "metadata": {},
     "output_type": "execute_result"
    }
   ],
   "source": [
    "# check the unique values of lead source\n",
    "n_unique(df,'lead_source')\n"
   ]
  },
  {
   "cell_type": "code",
   "execution_count": 48,
   "metadata": {},
   "outputs": [
    {
     "data": {
      "text/plain": [
       "<matplotlib.axes._subplots.AxesSubplot at 0x285d2824848>"
      ]
     },
     "execution_count": 48,
     "metadata": {},
     "output_type": "execute_result"
    },
    {
     "data": {
      "image/png": "[encoded data removed]",
      "text/plain": [
       "<Figure size 432x288 with 1 Axes>"
      ]
     },
     "metadata": {
      "needs_background": "light"
     },
     "output_type": "display_data"
    }
   ],
   "source": [
    "# check outliers of lead_source\n",
    "df['lead_source'].value_counts().plot(kind='hist')"
   ]
  },
  {
   "cell_type": "markdown",
   "metadata": {},
   "source": [
    "> there are outliers in lead source feature. "
   ]
  },
  {
   "cell_type": "code",
   "execution_count": 49,
   "metadata": {},
   "outputs": [],
   "source": [
    "# remove outliers of lead source where its freq. is less than 100\n",
    "df=df.groupby('lead_source').filter(lambda x : len(x)>=100)\n"
   ]
  },
  {
   "cell_type": "code",
   "execution_count": 50,
   "metadata": {},
   "outputs": [
    {
     "data": {
      "text/plain": [
       "19"
      ]
     },
     "execution_count": 50,
     "metadata": {},
     "output_type": "execute_result"
    }
   ],
   "source": [
    "# check the unique values of lead source\n",
    "n_unique(df,'lead_source')"
   ]
  },
  {
   "cell_type": "code",
   "execution_count": 51,
   "metadata": {},
   "outputs": [
    {
     "data": {
      "text/plain": [
       "facebook               True\n",
       "google                 True\n",
       "website                True\n",
       "personal               True\n",
       "organic search         True\n",
       "phone                  True\n",
       "hotline                True\n",
       "app                    True\n",
       "google landing page    True\n",
       "landing page           True\n",
       "organic form           True\n",
       "whatsapp               True\n",
       "sms                    True\n",
       "vodafone               True\n",
       "unknown                True\n",
       "client referral        True\n",
       "propertyfinder         True\n",
       "intercom               True\n",
       "direct traffic         True\n",
       "Name: lead_source, dtype: bool"
      ]
     },
     "execution_count": 51,
     "metadata": {},
     "output_type": "execute_result"
    }
   ],
   "source": [
    "# check the unique lead source\n",
    "df['lead_source'].value_counts()>=100"
   ]
  },
  {
   "cell_type": "code",
   "execution_count": 52,
   "metadata": {},
   "outputs": [],
   "source": [
    "# remove rows where lead source is unknown\n",
    "df=df[df['lead_source']!=\"unknown\"]"
   ]
  },
  {
   "cell_type": "code",
   "execution_count": 53,
   "metadata": {},
   "outputs": [
    {
     "data": {
      "text/plain": [
       "(87907, 7)"
      ]
     },
     "execution_count": 53,
     "metadata": {},
     "output_type": "execute_result"
    }
   ],
   "source": [
    "df.shape"
   ]
  },
  {
   "cell_type": "code",
   "execution_count": 54,
   "metadata": {},
   "outputs": [
    {
     "data": {
      "text/plain": [
       "array(['google', 'facebook', 'app', 'organic search', 'landing page',\n",
       "       'website', 'sms', 'whatsapp', 'phone', 'propertyfinder',\n",
       "       'vodafone', 'intercom', 'hotline', 'direct traffic',\n",
       "       'client referral', 'organic form', 'google landing page',\n",
       "       'personal'], dtype=object)"
      ]
     },
     "execution_count": 54,
     "metadata": {},
     "output_type": "execute_result"
    }
   ],
   "source": [
    "# check the unique values in lead source\n",
    "d_unique(df,'lead_source')"
   ]
  },
  {
   "cell_type": "code",
   "execution_count": 55,
   "metadata": {},
   "outputs": [
    {
     "data": {
      "text/plain": [
       "514"
      ]
     },
     "execution_count": 55,
     "metadata": {},
     "output_type": "execute_result"
    }
   ],
   "source": [
    "# check the unique values of campaign\n",
    "n_unique(df,'campaign')\n"
   ]
  },
  {
   "cell_type": "code",
   "execution_count": 56,
   "metadata": {},
   "outputs": [
    {
     "data": {
      "text/plain": [
       "<matplotlib.axes._subplots.AxesSubplot at 0x285d2fc1cc8>"
      ]
     },
     "execution_count": 56,
     "metadata": {},
     "output_type": "execute_result"
    },
    {
     "data": {
      "image/png": "[encoded data removed]",
      "text/plain": [
       "<Figure size 432x288 with 1 Axes>"
      ]
     },
     "metadata": {
      "needs_background": "light"
     },
     "output_type": "display_data"
    }
   ],
   "source": [
    "# check outliers of campaign\n",
    "df['campaign'].value_counts().plot(kind='hist')"
   ]
  },
  {
   "cell_type": "markdown",
   "metadata": {},
   "source": [
    "> There are outliers in campaign feature."
   ]
  },
  {
   "cell_type": "code",
   "execution_count": 57,
   "metadata": {},
   "outputs": [
    {
     "data": {
      "text/plain": [
       "514"
      ]
     },
     "execution_count": 57,
     "metadata": {},
     "output_type": "execute_result"
    }
   ],
   "source": [
    "# check the number of unique values in campaign\n",
    "n_unique(df,'campaign')"
   ]
  },
  {
   "cell_type": "code",
   "execution_count": 58,
   "metadata": {},
   "outputs": [
    {
     "data": {
      "text/plain": [
       "21355"
      ]
     },
     "execution_count": 58,
     "metadata": {},
     "output_type": "execute_result"
    }
   ],
   "source": [
    "#check the number of none values in campaign\n",
    "df.query('campaign==\"none\"').shape[0]"
   ]
  },
  {
   "cell_type": "code",
   "execution_count": 59,
   "metadata": {},
   "outputs": [
    {
     "data": {
      "text/plain": [
       "17595"
      ]
     },
     "execution_count": 59,
     "metadata": {},
     "output_type": "execute_result"
    }
   ],
   "source": [
    "#check the number of unqualifed leads whoes campagin value is none\n",
    "df.query('campaign==\"none\" & low_qualified==0').shape[0]"
   ]
  },
  {
   "cell_type": "code",
   "execution_count": 60,
   "metadata": {},
   "outputs": [],
   "source": [
    "# remove the unqualifed leads whose campaign is none\n",
    "df=df.query('(campaign!=\"none\" & low_qualified==0)|(campaign==\"none\" & low_qualified==1) |(campaign!=\"none\" & low_qualified==1)')"
   ]
  },
  {
   "cell_type": "code",
   "execution_count": 61,
   "metadata": {},
   "outputs": [],
   "source": [
    "# remove none values from campaign\n",
    "#df=df[df['campaign']!=\"none\"]"
   ]
  },
  {
   "cell_type": "code",
   "execution_count": 62,
   "metadata": {},
   "outputs": [],
   "source": [
    "# remove outliers in campaign\n",
    "#df=df.groupby('campaign').filter(lambda x : len(x)>=500)\n"
   ]
  },
  {
   "cell_type": "code",
   "execution_count": 63,
   "metadata": {},
   "outputs": [
    {
     "data": {
      "text/plain": [
       "514"
      ]
     },
     "execution_count": 63,
     "metadata": {},
     "output_type": "execute_result"
    }
   ],
   "source": [
    "# check the number of unique values in campaign\n",
    "n_unique(df,'campaign')"
   ]
  },
  {
   "cell_type": "code",
   "execution_count": 64,
   "metadata": {
    "scrolled": true
   },
   "outputs": [
    {
     "data": {
      "text/plain": [
       "array(['sodic', 'orascom lead generation', 'locations',\n",
       "       'city edge lead generation', 'inertia egypt',\n",
       "       'gouna generic lead generation',\n",
       "       'emaar lead generation cooing new', 'tmg lead generation cooing',\n",
       "       'tatweer misr lead generation new cooing',\n",
       "       'palm hills lead generation', 'misr italia',\n",
       "       'hassan allam lead generation',\n",
       "       'reedy group lead generation cooing new', 'equity',\n",
       "       'inertia lead generation cooing', 'google cpc', 'mountain view',\n",
       "       'sodic lead generation',\n",
       "       'modon elopments lead generation cooing new',\n",
       "       'ora elopers lead generation new cooing',\n",
       "       'mountain view lead generation cooing',\n",
       "       'palm hills lead generation new cooing',\n",
       "       'palm hills lead generation cooing new',\n",
       "       'arabella lead generation cooing',\n",
       "       'modon elopments lead generation', 'palmhillssms', 'marakez',\n",
       "       'starlight elopments', 'eloper x lead generation',\n",
       "       'la vista elopments lead generation cooing',\n",
       "       'sodic lead generation new cooing', 'sky ad elopments',\n",
       "       'landmark sabbour lead generation copy',\n",
       "       'dorra group lead generation new cooing',\n",
       "       'inertia lead generation', 'discover mnhd',\n",
       "       'alkarma elopments lead generation cooing', 'cityscape',\n",
       "       'soma bay lead generation', 'dorra', 'capital group properties',\n",
       "       'al ahly for real estate', 'badyasms', 'cairogateemail',\n",
       "       'emaar lead generation cooing',\n",
       "       'emaar misr lead generation cooing new',\n",
       "       'emaar misr lead generation', 'remarketing lead generation',\n",
       "       'sellmyproperty', 'none', 'palm hills lead generation new',\n",
       "       'dorra group lead generation cooing', 'ora',\n",
       "       'tatweer misr lead generation', 'owest lg oms',\n",
       "       'oms all compounds', 'mountain view sms', 'mountainviewsmsgroup',\n",
       "       'la vista', 'city edge', 'السادس من اكتوبر', 'hassan allam',\n",
       "       'al tameer arabia elopments lead generation',\n",
       "       'orascom lead generation new cooing', 'tatweer misr',\n",
       "       'ora elopers lead generation', 'mountainviewsms',\n",
       "       'sodic lead generation cooing', 'discover sodic',\n",
       "       'generic north coast lead generation cooing', 'soma bay',\n",
       "       'memaar al mourshdy', 'el attal lead generation cooing',\n",
       "       'emaar misr', 'galalla campaign',\n",
       "       'tatweer misr lead generation cooing', 'sodic conversions new',\n",
       "       'galala', 'emaar ar', 'misr italia lead generation cooing new',\n",
       "       'al jazi marriott international lead generation',\n",
       "       'sokhna generic lead generation', 'topcompoundsowest',\n",
       "       'resale product lead generation cooing', 'roya group',\n",
       "       'al ahly sabbour elopments lead generation cooing new',\n",
       "       'owestsmsv', 'marakez lead generation',\n",
       "       'tatweer misr lead generation new', 'the creeks',\n",
       "       'landmark sabbour lead generation',\n",
       "       'saudi egyptian elopers lead generation cooing',\n",
       "       'misr italia lead generation cooing',\n",
       "       'palm hills lead generation cooing',\n",
       "       'tameer lead generation cooing', 'eloper x lead generation cooing',\n",
       "       'city edge lead generation new', 'hyde park lead generation',\n",
       "       'al ahly sabbour lead generation',\n",
       "       'hassan allam lead generation cooing new',\n",
       "       'sky ad elopments lead generation cooing',\n",
       "       'marakez lead generation cooing',\n",
       "       'generic new capital lead generation cooing',\n",
       "       'soma bay lead generation cooing',\n",
       "       'arkan palm lead generation cooing',\n",
       "       'reedy group lead generation cooing',\n",
       "       'hyde park lead generation cooing new', 'orascom', 'discover ora',\n",
       "       'ora elopers lead generation cooing',\n",
       "       'modon elopments lead generation cooing',\n",
       "       'lmd lead generation cooing', 'cleopatra elopments',\n",
       "       'starlight elopments lead generation',\n",
       "       'roya lead generation cooing', 'badya sms',\n",
       "       'city edge lead generation cooing',\n",
       "       'al ahly sabbour lead geneation cooing',\n",
       "       'emaar misr lead generation new',\n",
       "       'hyde park lead generation cooing',\n",
       "       'madinet nasr for housing and elopment lead generation cooing',\n",
       "       'false', 'patio oro sms', 'city edge lead generation new cooing',\n",
       "       'thegiselle', 'lavistacitysms',\n",
       "       'orascom lead generation western new cooing', 'palm hills',\n",
       "       'dorra group lead generation new', 'mnhd', 'vresidence',\n",
       "       'rooya group', 'minka lead generation',\n",
       "       'la vista elopments lead generation',\n",
       "       'living yards lead generation', 'aeon',\n",
       "       'sodic lead generation new',\n",
       "       'equity for real estate elopments lead generation cooing',\n",
       "       'la vista elopments lead generation cooing new', 'palm hills ar',\n",
       "       'phia', 'mabany edris lead generation cooing', 'roya group ar',\n",
       "       'misr italia lead generation copy', 'marriot international',\n",
       "       'discover discover tatweer misr', 'cityscapeoffer',\n",
       "       'shahawi group', 'cairogatesms',\n",
       "       'tatweer misr lead generation cooing new', 'discover minka',\n",
       "       'generic new cairo campaign lead generation new',\n",
       "       'tameer lead generation new',\n",
       "       'al futtaim group real estate lead generation cooing',\n",
       "       'starlight elopments lead generation cooing',\n",
       "       'roya lead generation cooing new',\n",
       "       'mountain view lead generation cooing new', 'landmark sabbour',\n",
       "       'al marasem elopment lead generation cooing',\n",
       "       'cairo capital elopments', 'tameer arabian lead generation cooing',\n",
       "       'khozam elopments lead generation cooing',\n",
       "       'al ahly sabbour lead generation cooing',\n",
       "       'emaar misr lead generation new cooing',\n",
       "       'ora elopers lead generation other account',\n",
       "       'palm hills new cairo sms', 'alburoujsms', 'iwan',\n",
       "       'generic north coast lead generation', 'mountain view ar',\n",
       "       'eloper x', 'maven elopments lead generation cooing',\n",
       "       'sky ad elopments lead generation',\n",
       "       'tameer lead generation new cooing', 'khozam elopments',\n",
       "       'taj city campaign', 'dynamicremarketing',\n",
       "       'dynamic targeting fergany',\n",
       "       'alkarna elopments lead generation cooing',\n",
       "       'lagoon beach park sms', 'hyde park',\n",
       "       'mountainviewoctoberparkemail',\n",
       "       'eloper x lead generation cooing new', 'il mondo new capital',\n",
       "       'newsletter feb', 'ora elopers lead generation cooing new',\n",
       "       'new capital city', 'saudi egyptian elopers',\n",
       "       'capital group adcg lead generation', 'iwan lead generation',\n",
       "       'misr italia lead generation',\n",
       "       'tameer arabia lead generation cooing',\n",
       "       'generic new cairo campaign lead generation cooing',\n",
       "       'rooya group ar', 'the waterway elopments lead generation new',\n",
       "       'th october', 'al burouj sms', 'oms all compound',\n",
       "       'mnhd lead generation',\n",
       "       'madinet nasr for housing and elopment lead generation cooing new',\n",
       "       'karmellemail', 'minka', 'mountain view lead generation',\n",
       "       'newsletter january', 'north coast',\n",
       "       'iwan lead generation cooing new', 'dynamic targeting zeina',\n",
       "       'cred elopments', 'akam lead generation', 'maven elopments',\n",
       "       'new giza resale lead generation cooing', 'north edge google auto',\n",
       "       'sarai campaign', 'zed', 'inertia egypt lead generation',\n",
       "       'remarketing', 'el gouna', 'mountain view lead generation new',\n",
       "       'district', 'katameya residence', 'discovercairogate',\n",
       "       'loft capital center lead generation', 'sabinaunit', 'capital way',\n",
       "       'ajna', 'galalla', 'gouna lead generation ab testing abroad',\n",
       "       'soma bay lead generation ab testing abroad',\n",
       "       'loft capital center lead generation ab testing', 'ajna elopments',\n",
       "       'palm hills offer', 'spectrum', 'reedy group', 'tameer',\n",
       "       'six west', 'caesar bay lead generation', 'mvicity', 'competitors',\n",
       "       'vye', 'north edge custom intent english', 'inland properties',\n",
       "       'al jazi jw marriott lead generation cooing',\n",
       "       'generaldisplaycampaign', 'core elopments', 'topcompoundszed',\n",
       "       'secon nile towers', 'patio', 'arabella', 'galleria',\n",
       "       'misr italia lead generation other account',\n",
       "       'al tameer arabia elopments lead generation other account',\n",
       "       'new giza', 'vye bedroom', 'rivan', 'the vues',\n",
       "       'al marasem lead generation cooing',\n",
       "       'pre elopments lead generation cooing',\n",
       "       'edge holding lead generation cooing',\n",
       "       'imkan misr lead generation cooing',\n",
       "       'times elopments lead generation cooing',\n",
       "       'orascom lead generation other account', 'compoundpagezed',\n",
       "       'pre elopments', 'sak elopments', 'iwan lead generation cooing',\n",
       "       'personal', 'better home', 'sokhna generic lead generation cooing',\n",
       "       'nile elopments lead generation', 'the gate mazarine',\n",
       "       'al borouj campaign', 'mbg', 'new plan', 'new cairo',\n",
       "       'the waterway elopments lead generation', 'tmg',\n",
       "       'conversions general', 'palm hills conversions new',\n",
       "       'tatweer misr lead generation other account', 'propertyfinder',\n",
       "       'arabia holding lead generation cooing', 'facebook conversion',\n",
       "       'tameer arabian', 'facebook',\n",
       "       'new cairo real estate investment company', 'display tatweer misr',\n",
       "       'palm hills new cairo years', 'conversions bgeneral',\n",
       "       'discover tatweer misr', 'topcompoundsowest orascom',\n",
       "       'taj misr lead generation cooing', 'al burouj',\n",
       "       'better home lead generation cooing', 'new cairo remarketing',\n",
       "       'october remarketing', 'living yards', 'mv lead generation new',\n",
       "       'secon', 'al futtaim', 'orascom lead generation cooing new',\n",
       "       'resale financing campaign', 'sarai', 'al karma',\n",
       "       'brand campaign search hesham', 'discover somabay',\n",
       "       'discoveraddresseast', 'discover orascom',\n",
       "       'discover palm hills new cairo', 'discover starlight elopments',\n",
       "       'nile elopments', 'commercial new cairo', 'taj',\n",
       "       'cairo gate emaar west th of october', 'discover',\n",
       "       'm elopments lead generation cooing', 'discover discover sodic',\n",
       "       'orascom lead generation newww',\n",
       "       'amazon elopments lead generation cooing',\n",
       "       'nile elopments lead generation cooing',\n",
       "       'new plan elopment lead generation', 'discoverhaptown',\n",
       "       'ilmontgalal', 'discoveriris', 'mountain view videos campaign',\n",
       "       'mountain view images campaign', 'mountain view lookalike',\n",
       "       'zed west', 'dorra lead generation cooing',\n",
       "       'hassan allam lead generation cooing', 'mv lead generation cooing',\n",
       "       'new plan elopments lead generation cooing',\n",
       "       'maven elopments lead generation',\n",
       "       'cornerstone elopment lead generation cooing', 'il bosco cooing',\n",
       "       'mountain chillout park', 'discovermvnorthcoast',\n",
       "       'facebookmvchillout', 'kinda', 'orascom lead generation copy',\n",
       "       'orascom lead generation cooing', 'facebookilbosco',\n",
       "       'google capital group properties', 'emaar emaar misr',\n",
       "       'generic new cairo campaign new lead generation cooing',\n",
       "       'el shorouk', 'living yards lead generation cooing',\n",
       "       'al tameer arabia elopments lead generation cooing',\n",
       "       'discover palmhills', 'google tatweer misr', 'minka conversion',\n",
       "       'minka lead generation lowest cost', 'ezan', 'merna kinda',\n",
       "       'merna kinda no placments', 'compound kinda',\n",
       "       'al maqsad standalone resale', 'o west', 'akam',\n",
       "       'al burouj misr lead generation',\n",
       "       'generic october lead generation cooing',\n",
       "       'al burouj misr lead generation cooing', 'both inmail lead',\n",
       "       'mv lead generation', 'al borouj misr',\n",
       "       'la vista city lead generation cooing', 'kinda no placments',\n",
       "       'saudi egyptian elopers lead generation', 'maven elopments ar',\n",
       "       'al ahly for real estate ar', 'uc elopments',\n",
       "       'generic new cairo campaign lead generation',\n",
       "       'googlegenericdisplay', 'discover discover palmhills',\n",
       "       'al tameer arabia elopments lead generation new cooing',\n",
       "       'generic new cairo lead generation cooing', 'menassat elopments',\n",
       "       'generic october campaign lead generation cooing', 'emaar',\n",
       "       'al borouj misr lead generation cooing', 'memaar el morshedy',\n",
       "       'il monte galalasms', 'discoveruptown',\n",
       "       'urbnlanes lead generation cooing', 'orascom lead generation new',\n",
       "       'discover capital group properties', 'village west oms',\n",
       "       'village west lg oms', 'compound v residences by sodic',\n",
       "       'mv evia sms', 'discovermivida', 'o west twinhouse',\n",
       "       'discovertheloft', 'remarketing lead generation cooing', 'oms',\n",
       "       'june sodic', 'mazarine new alamein', 'sodic june', 'cold call',\n",
       "       'orascom orascom', 'better home lead generation',\n",
       "       'saudi egyptian elopers lead generation cooing new', 'marassi',\n",
       "       'sorouh', 'dynamic targeting target cpa', 'مراسي', 'modon',\n",
       "       'tatweer misr ar', 'anywhere', 'alexandria', 'port said',\n",
       "       'القاهرة الجديدة', 'المنصورة الجديدة', 'somabay',\n",
       "       'العاصمة الأدارية الجديدة', 'ain sokhna', 'الشروق', 'ora ar',\n",
       "       'zedeastsms', 'moutain view icity', 'العين السخنة',\n",
       "       'nawy display launch campaign', 'inertia egypt ar',\n",
       "       'hacienda bay sale resale', 'arkan palm',\n",
       "       'the lakes a b test targeting vs no targeting cooing lead generation',\n",
       "       'الساحل الشمالي', 'new heliopolis', 'سوماباي', 'mostakbal city',\n",
       "       'مدينة المستقبل', 'هيليوبوليس الجديدة', 'soma bay ar',\n",
       "       'al marasem', 'personal referral hadi',\n",
       "       'castle elopment lead generation cooing',\n",
       "       'residence eight sky abu dhabi', 'discovermajada',\n",
       "       'sodicestatessms', 'edge holding',\n",
       "       'uc elopments lead generation cooing',\n",
       "       'a b testing may il bosco city lead generation cooing', 'secon ar',\n",
       "       'cornerstone elopment', 'hyde park ar', 'amazon holding',\n",
       "       'luxury properties in el gouna',\n",
       "       'il bosco city a b test lead generation', 'new capital',\n",
       "       'mbg elopments lead generation cooing', 'uc elopment',\n",
       "       'armonia new capital', 'celia', 'fanadir bay for sale property',\n",
       "       'il bosco city', 'the land elopers', 'swanlake sms test',\n",
       "       'creek town', 'nakheel elopments', 'discover discover mnhd',\n",
       "       'el attal', 'madaar elopment lead generation cooing',\n",
       "       'mercon elopments', 'eloper x ar',\n",
       "       'discoverpalmparks discover palmhills',\n",
       "       'badreldin lead generation cooing',\n",
       "       'pyramids elopment lead generation cooing',\n",
       "       'dynamic campaign lead generation cooing',\n",
       "       'generic new cairo new lead generation cooing',\n",
       "       'general new capital lead generation cooing', 'hilton modon',\n",
       "       'webretargeting', 'nawy video views brand awareness video cutdown',\n",
       "       'lagoon park mountain view icity', 'mountain view icity october',\n",
       "       'display campaign palm hills', 'il bosco',\n",
       "       'mountain view icity new cairo', 'mountain view i city', 'badya',\n",
       "       'fb new dynamic ads by fergany', 'videocampaign',\n",
       "       'ora elopers lead generation new cooing wrong', 'azha',\n",
       "       'bumpercampaign', 'skippablecampaign',\n",
       "       'nawy video views brand awareness video', 'badr el din',\n",
       "       'times elopments', 'arabia holdings', 'the red', 'zed east',\n",
       "       'urbnlanes', 'castle elopment',\n",
       "       'cred elopment lead generation cooing',\n",
       "       'direction white north coast', 'mabany edris', 'direction white',\n",
       "       'resale installments with nawy', 'verdura', 'fifth square',\n",
       "       'pyramids elopments', 'sari elopments',\n",
       "       'th of october or th settlement', 'il bosco a b testing',\n",
       "       'zed east a b testing lead generation', 'pmax campaign',\n",
       "       'the lakes bloomfields a b testing lead generation',\n",
       "       'june a b testing lead generation',\n",
       "       'a b test may zed east lead generation cooing',\n",
       "       'a b test the lakes bloomfields lead generation cooing may',\n",
       "       'dynamic search campaigns landing pages trial',\n",
       "       'a b testing may il bosco city lead generation cooing no targeting',\n",
       "       'silversands', 'generic north coast lead generation cooing new'],\n",
       "      dtype=object)"
      ]
     },
     "execution_count": 64,
     "metadata": {},
     "output_type": "execute_result"
    }
   ],
   "source": [
    "# check the unique values in campaign\n",
    "d_unique(df,'campaign')"
   ]
  },
  {
   "cell_type": "code",
   "execution_count": 65,
   "metadata": {},
   "outputs": [
    {
     "data": {
      "text/plain": [
       "(70312, 7)"
      ]
     },
     "execution_count": 65,
     "metadata": {},
     "output_type": "execute_result"
    }
   ],
   "source": [
    "# check the shape of the data\n",
    "df.shape"
   ]
  },
  {
   "cell_type": "code",
   "execution_count": 66,
   "metadata": {},
   "outputs": [
    {
     "data": {
      "text/plain": [
       "24"
      ]
     },
     "execution_count": 66,
     "metadata": {},
     "output_type": "execute_result"
    }
   ],
   "source": [
    "# check the shape of the data of campaign =false for qualifed leads\n",
    "df.query('campaign==\"false\" & low_qualified==1').shape[0]\n"
   ]
  },
  {
   "cell_type": "code",
   "execution_count": 67,
   "metadata": {},
   "outputs": [],
   "source": [
    "# drop campaign=false rows\n",
    "df=df[df['campaign']!=\"false\"]\n"
   ]
  },
  {
   "cell_type": "code",
   "execution_count": 68,
   "metadata": {},
   "outputs": [
    {
     "data": {
      "text/plain": [
       "(70094, 7)"
      ]
     },
     "execution_count": 68,
     "metadata": {},
     "output_type": "execute_result"
    }
   ],
   "source": [
    "# check the shape of the data\n",
    "df.shape"
   ]
  },
  {
   "cell_type": "markdown",
   "metadata": {},
   "source": [
    "> I decided to not remove outliers from campaign and deal with it because lots of information will be lost and also to not remove the none values for the qualifed leads as i need the information about the qualifed leads more than the unqualifed leads as it is smaller than the unqualifed leads, I decided to remove it from the unqualifed leads  as I will handle the problem of imbalanced dataset latter as well as rows of campaign=false as they are small."
   ]
  },
  {
   "cell_type": "code",
   "execution_count": 69,
   "metadata": {},
   "outputs": [],
   "source": [
    "# map arabic lang. campaign with english\n",
    "df['campaign'] = df['campaign'].replace(['مدينة المستقبل', 'هيليوبوليس الجديدة', 'سوماباي','الساحل الشمالي','العين السخنة','العاصمة الأدارية الجديدة','القاهرة الجديدة','المنصورة الجديدة','مراسي','الشروق','السادس من اكتوبر'], ['sixth of october','alshuruq','marasi','new mansoura','new cairo','The new administrative capital','ain sukhna','north coast','sumabay','new heliopolis','future city'])"
   ]
  },
  {
   "cell_type": "code",
   "execution_count": 70,
   "metadata": {},
   "outputs": [
    {
     "data": {
      "text/plain": [
       "array(['sodic', 'orascom lead generation', 'locations',\n",
       "       'city edge lead generation', 'inertia egypt',\n",
       "       'gouna generic lead generation',\n",
       "       'emaar lead generation cooing new', 'tmg lead generation cooing',\n",
       "       'tatweer misr lead generation new cooing',\n",
       "       'palm hills lead generation', 'misr italia',\n",
       "       'hassan allam lead generation',\n",
       "       'reedy group lead generation cooing new', 'equity',\n",
       "       'inertia lead generation cooing', 'google cpc', 'mountain view',\n",
       "       'sodic lead generation',\n",
       "       'modon elopments lead generation cooing new',\n",
       "       'ora elopers lead generation new cooing',\n",
       "       'mountain view lead generation cooing',\n",
       "       'palm hills lead generation new cooing',\n",
       "       'palm hills lead generation cooing new',\n",
       "       'arabella lead generation cooing',\n",
       "       'modon elopments lead generation', 'palmhillssms', 'marakez',\n",
       "       'starlight elopments', 'eloper x lead generation',\n",
       "       'la vista elopments lead generation cooing',\n",
       "       'sodic lead generation new cooing', 'sky ad elopments',\n",
       "       'landmark sabbour lead generation copy',\n",
       "       'dorra group lead generation new cooing',\n",
       "       'inertia lead generation', 'discover mnhd',\n",
       "       'alkarma elopments lead generation cooing', 'cityscape',\n",
       "       'soma bay lead generation', 'dorra', 'capital group properties',\n",
       "       'al ahly for real estate', 'badyasms', 'cairogateemail',\n",
       "       'emaar lead generation cooing',\n",
       "       'emaar misr lead generation cooing new',\n",
       "       'emaar misr lead generation', 'remarketing lead generation',\n",
       "       'sellmyproperty', 'none', 'palm hills lead generation new',\n",
       "       'dorra group lead generation cooing', 'ora',\n",
       "       'tatweer misr lead generation', 'owest lg oms',\n",
       "       'oms all compounds', 'mountain view sms', 'mountainviewsmsgroup',\n",
       "       'la vista', 'city edge', 'future city', 'hassan allam',\n",
       "       'al tameer arabia elopments lead generation',\n",
       "       'orascom lead generation new cooing', 'tatweer misr',\n",
       "       'ora elopers lead generation', 'mountainviewsms',\n",
       "       'sodic lead generation cooing', 'discover sodic',\n",
       "       'generic north coast lead generation cooing', 'soma bay',\n",
       "       'memaar al mourshdy', 'el attal lead generation cooing',\n",
       "       'emaar misr', 'galalla campaign',\n",
       "       'tatweer misr lead generation cooing', 'sodic conversions new',\n",
       "       'galala', 'emaar ar', 'misr italia lead generation cooing new',\n",
       "       'al jazi marriott international lead generation',\n",
       "       'sokhna generic lead generation', 'topcompoundsowest',\n",
       "       'resale product lead generation cooing', 'roya group',\n",
       "       'al ahly sabbour elopments lead generation cooing new',\n",
       "       'owestsmsv', 'marakez lead generation',\n",
       "       'tatweer misr lead generation new', 'the creeks',\n",
       "       'landmark sabbour lead generation',\n",
       "       'saudi egyptian elopers lead generation cooing',\n",
       "       'misr italia lead generation cooing',\n",
       "       'palm hills lead generation cooing',\n",
       "       'tameer lead generation cooing', 'eloper x lead generation cooing',\n",
       "       'city edge lead generation new', 'hyde park lead generation',\n",
       "       'al ahly sabbour lead generation',\n",
       "       'hassan allam lead generation cooing new',\n",
       "       'sky ad elopments lead generation cooing',\n",
       "       'marakez lead generation cooing',\n",
       "       'generic new capital lead generation cooing',\n",
       "       'soma bay lead generation cooing',\n",
       "       'arkan palm lead generation cooing',\n",
       "       'reedy group lead generation cooing',\n",
       "       'hyde park lead generation cooing new', 'orascom', 'discover ora',\n",
       "       'ora elopers lead generation cooing',\n",
       "       'modon elopments lead generation cooing',\n",
       "       'lmd lead generation cooing', 'cleopatra elopments',\n",
       "       'starlight elopments lead generation',\n",
       "       'roya lead generation cooing', 'badya sms',\n",
       "       'city edge lead generation cooing',\n",
       "       'al ahly sabbour lead geneation cooing',\n",
       "       'emaar misr lead generation new',\n",
       "       'hyde park lead generation cooing',\n",
       "       'madinet nasr for housing and elopment lead generation cooing',\n",
       "       'patio oro sms', 'city edge lead generation new cooing',\n",
       "       'thegiselle', 'lavistacitysms',\n",
       "       'orascom lead generation western new cooing', 'palm hills',\n",
       "       'dorra group lead generation new', 'mnhd', 'vresidence',\n",
       "       'rooya group', 'minka lead generation',\n",
       "       'la vista elopments lead generation',\n",
       "       'living yards lead generation', 'aeon',\n",
       "       'sodic lead generation new',\n",
       "       'equity for real estate elopments lead generation cooing',\n",
       "       'la vista elopments lead generation cooing new', 'palm hills ar',\n",
       "       'phia', 'mabany edris lead generation cooing', 'roya group ar',\n",
       "       'misr italia lead generation copy', 'marriot international',\n",
       "       'discover discover tatweer misr', 'cityscapeoffer',\n",
       "       'shahawi group', 'cairogatesms',\n",
       "       'tatweer misr lead generation cooing new', 'discover minka',\n",
       "       'generic new cairo campaign lead generation new',\n",
       "       'tameer lead generation new',\n",
       "       'al futtaim group real estate lead generation cooing',\n",
       "       'starlight elopments lead generation cooing',\n",
       "       'roya lead generation cooing new',\n",
       "       'mountain view lead generation cooing new', 'landmark sabbour',\n",
       "       'al marasem elopment lead generation cooing',\n",
       "       'cairo capital elopments', 'tameer arabian lead generation cooing',\n",
       "       'khozam elopments lead generation cooing',\n",
       "       'al ahly sabbour lead generation cooing',\n",
       "       'emaar misr lead generation new cooing',\n",
       "       'ora elopers lead generation other account',\n",
       "       'palm hills new cairo sms', 'alburoujsms', 'iwan',\n",
       "       'generic north coast lead generation', 'mountain view ar',\n",
       "       'eloper x', 'maven elopments lead generation cooing',\n",
       "       'sky ad elopments lead generation',\n",
       "       'tameer lead generation new cooing', 'khozam elopments',\n",
       "       'taj city campaign', 'dynamicremarketing',\n",
       "       'dynamic targeting fergany',\n",
       "       'alkarna elopments lead generation cooing',\n",
       "       'lagoon beach park sms', 'hyde park',\n",
       "       'mountainviewoctoberparkemail',\n",
       "       'eloper x lead generation cooing new', 'il mondo new capital',\n",
       "       'newsletter feb', 'ora elopers lead generation cooing new',\n",
       "       'new capital city', 'saudi egyptian elopers',\n",
       "       'capital group adcg lead generation', 'iwan lead generation',\n",
       "       'misr italia lead generation',\n",
       "       'tameer arabia lead generation cooing',\n",
       "       'generic new cairo campaign lead generation cooing',\n",
       "       'rooya group ar', 'the waterway elopments lead generation new',\n",
       "       'th october', 'al burouj sms', 'oms all compound',\n",
       "       'mnhd lead generation',\n",
       "       'madinet nasr for housing and elopment lead generation cooing new',\n",
       "       'karmellemail', 'minka', 'mountain view lead generation',\n",
       "       'newsletter january', 'north coast',\n",
       "       'iwan lead generation cooing new', 'dynamic targeting zeina',\n",
       "       'cred elopments', 'akam lead generation', 'maven elopments',\n",
       "       'new giza resale lead generation cooing', 'north edge google auto',\n",
       "       'sarai campaign', 'zed', 'inertia egypt lead generation',\n",
       "       'remarketing', 'el gouna', 'mountain view lead generation new',\n",
       "       'district', 'katameya residence', 'discovercairogate',\n",
       "       'loft capital center lead generation', 'sabinaunit', 'capital way',\n",
       "       'ajna', 'galalla', 'gouna lead generation ab testing abroad',\n",
       "       'soma bay lead generation ab testing abroad',\n",
       "       'loft capital center lead generation ab testing', 'ajna elopments',\n",
       "       'palm hills offer', 'spectrum', 'reedy group', 'tameer',\n",
       "       'six west', 'caesar bay lead generation', 'mvicity', 'competitors',\n",
       "       'vye', 'north edge custom intent english', 'inland properties',\n",
       "       'al jazi jw marriott lead generation cooing',\n",
       "       'generaldisplaycampaign', 'core elopments', 'topcompoundszed',\n",
       "       'secon nile towers', 'patio', 'arabella', 'galleria',\n",
       "       'misr italia lead generation other account',\n",
       "       'al tameer arabia elopments lead generation other account',\n",
       "       'new giza', 'vye bedroom', 'rivan', 'the vues',\n",
       "       'al marasem lead generation cooing',\n",
       "       'pre elopments lead generation cooing',\n",
       "       'edge holding lead generation cooing',\n",
       "       'imkan misr lead generation cooing',\n",
       "       'times elopments lead generation cooing',\n",
       "       'orascom lead generation other account', 'compoundpagezed',\n",
       "       'pre elopments', 'sak elopments', 'iwan lead generation cooing',\n",
       "       'personal', 'better home', 'sokhna generic lead generation cooing',\n",
       "       'nile elopments lead generation', 'the gate mazarine',\n",
       "       'al borouj campaign', 'mbg', 'new plan', 'new cairo',\n",
       "       'the waterway elopments lead generation', 'tmg',\n",
       "       'conversions general', 'palm hills conversions new',\n",
       "       'tatweer misr lead generation other account', 'propertyfinder',\n",
       "       'arabia holding lead generation cooing', 'facebook conversion',\n",
       "       'tameer arabian', 'facebook',\n",
       "       'new cairo real estate investment company', 'display tatweer misr',\n",
       "       'palm hills new cairo years', 'conversions bgeneral',\n",
       "       'discover tatweer misr', 'topcompoundsowest orascom',\n",
       "       'taj misr lead generation cooing', 'al burouj',\n",
       "       'better home lead generation cooing', 'new cairo remarketing',\n",
       "       'october remarketing', 'living yards', 'mv lead generation new',\n",
       "       'secon', 'al futtaim', 'orascom lead generation cooing new',\n",
       "       'resale financing campaign', 'sarai', 'al karma',\n",
       "       'brand campaign search hesham', 'discover somabay',\n",
       "       'discoveraddresseast', 'discover orascom',\n",
       "       'discover palm hills new cairo', 'discover starlight elopments',\n",
       "       'nile elopments', 'commercial new cairo', 'taj',\n",
       "       'cairo gate emaar west th of october', 'discover',\n",
       "       'm elopments lead generation cooing', 'discover discover sodic',\n",
       "       'orascom lead generation newww',\n",
       "       'amazon elopments lead generation cooing',\n",
       "       'nile elopments lead generation cooing',\n",
       "       'new plan elopment lead generation', 'discoverhaptown',\n",
       "       'ilmontgalal', 'discoveriris', 'mountain view videos campaign',\n",
       "       'mountain view images campaign', 'mountain view lookalike',\n",
       "       'zed west', 'dorra lead generation cooing',\n",
       "       'hassan allam lead generation cooing', 'mv lead generation cooing',\n",
       "       'new plan elopments lead generation cooing',\n",
       "       'maven elopments lead generation',\n",
       "       'cornerstone elopment lead generation cooing', 'il bosco cooing',\n",
       "       'mountain chillout park', 'discovermvnorthcoast',\n",
       "       'facebookmvchillout', 'kinda', 'orascom lead generation copy',\n",
       "       'orascom lead generation cooing', 'facebookilbosco',\n",
       "       'google capital group properties', 'emaar emaar misr',\n",
       "       'generic new cairo campaign new lead generation cooing',\n",
       "       'el shorouk', 'living yards lead generation cooing',\n",
       "       'al tameer arabia elopments lead generation cooing',\n",
       "       'discover palmhills', 'google tatweer misr', 'minka conversion',\n",
       "       'minka lead generation lowest cost', 'ezan', 'merna kinda',\n",
       "       'merna kinda no placments', 'compound kinda',\n",
       "       'al maqsad standalone resale', 'o west', 'akam',\n",
       "       'al burouj misr lead generation',\n",
       "       'generic october lead generation cooing',\n",
       "       'al burouj misr lead generation cooing', 'both inmail lead',\n",
       "       'mv lead generation', 'al borouj misr',\n",
       "       'la vista city lead generation cooing', 'kinda no placments',\n",
       "       'saudi egyptian elopers lead generation', 'maven elopments ar',\n",
       "       'al ahly for real estate ar', 'uc elopments',\n",
       "       'generic new cairo campaign lead generation',\n",
       "       'googlegenericdisplay', 'discover discover palmhills',\n",
       "       'al tameer arabia elopments lead generation new cooing',\n",
       "       'generic new cairo lead generation cooing', 'menassat elopments',\n",
       "       'generic october campaign lead generation cooing', 'emaar',\n",
       "       'al borouj misr lead generation cooing', 'memaar el morshedy',\n",
       "       'il monte galalasms', 'discoveruptown',\n",
       "       'urbnlanes lead generation cooing', 'orascom lead generation new',\n",
       "       'discover capital group properties', 'village west oms',\n",
       "       'village west lg oms', 'compound v residences by sodic',\n",
       "       'mv evia sms', 'discovermivida', 'o west twinhouse',\n",
       "       'discovertheloft', 'remarketing lead generation cooing', 'oms',\n",
       "       'june sodic', 'mazarine new alamein', 'sodic june', 'cold call',\n",
       "       'orascom orascom', 'better home lead generation',\n",
       "       'saudi egyptian elopers lead generation cooing new', 'marassi',\n",
       "       'sorouh', 'dynamic targeting target cpa', 'sumabay', 'modon',\n",
       "       'tatweer misr ar', 'anywhere', 'alexandria', 'port said',\n",
       "       'ain sukhna', 'somabay', 'The new administrative capital',\n",
       "       'ain sokhna', 'new heliopolis', 'ora ar', 'zedeastsms',\n",
       "       'moutain view icity', 'nawy display launch campaign',\n",
       "       'inertia egypt ar', 'hacienda bay sale resale', 'arkan palm',\n",
       "       'the lakes a b test targeting vs no targeting cooing lead generation',\n",
       "       'new mansoura', 'marasi', 'mostakbal city', 'sixth of october',\n",
       "       'alshuruq', 'soma bay ar', 'al marasem', 'personal referral hadi',\n",
       "       'castle elopment lead generation cooing',\n",
       "       'residence eight sky abu dhabi', 'discovermajada',\n",
       "       'sodicestatessms', 'edge holding',\n",
       "       'uc elopments lead generation cooing',\n",
       "       'a b testing may il bosco city lead generation cooing', 'secon ar',\n",
       "       'cornerstone elopment', 'hyde park ar', 'amazon holding',\n",
       "       'luxury properties in el gouna',\n",
       "       'il bosco city a b test lead generation', 'new capital',\n",
       "       'mbg elopments lead generation cooing', 'uc elopment',\n",
       "       'armonia new capital', 'celia', 'fanadir bay for sale property',\n",
       "       'il bosco city', 'the land elopers', 'swanlake sms test',\n",
       "       'creek town', 'nakheel elopments', 'discover discover mnhd',\n",
       "       'el attal', 'madaar elopment lead generation cooing',\n",
       "       'mercon elopments', 'eloper x ar',\n",
       "       'discoverpalmparks discover palmhills',\n",
       "       'badreldin lead generation cooing',\n",
       "       'pyramids elopment lead generation cooing',\n",
       "       'dynamic campaign lead generation cooing',\n",
       "       'generic new cairo new lead generation cooing',\n",
       "       'general new capital lead generation cooing', 'hilton modon',\n",
       "       'webretargeting', 'nawy video views brand awareness video cutdown',\n",
       "       'lagoon park mountain view icity', 'mountain view icity october',\n",
       "       'display campaign palm hills', 'il bosco',\n",
       "       'mountain view icity new cairo', 'mountain view i city', 'badya',\n",
       "       'fb new dynamic ads by fergany', 'videocampaign',\n",
       "       'ora elopers lead generation new cooing wrong', 'azha',\n",
       "       'bumpercampaign', 'skippablecampaign',\n",
       "       'nawy video views brand awareness video', 'badr el din',\n",
       "       'times elopments', 'arabia holdings', 'the red', 'zed east',\n",
       "       'urbnlanes', 'castle elopment',\n",
       "       'cred elopment lead generation cooing',\n",
       "       'direction white north coast', 'mabany edris', 'direction white',\n",
       "       'resale installments with nawy', 'verdura', 'fifth square',\n",
       "       'pyramids elopments', 'sari elopments',\n",
       "       'th of october or th settlement', 'il bosco a b testing',\n",
       "       'zed east a b testing lead generation', 'pmax campaign',\n",
       "       'the lakes bloomfields a b testing lead generation',\n",
       "       'june a b testing lead generation',\n",
       "       'a b test may zed east lead generation cooing',\n",
       "       'a b test the lakes bloomfields lead generation cooing may',\n",
       "       'dynamic search campaigns landing pages trial',\n",
       "       'a b testing may il bosco city lead generation cooing no targeting',\n",
       "       'silversands', 'generic north coast lead generation cooing new'],\n",
       "      dtype=object)"
      ]
     },
     "execution_count": 70,
     "metadata": {},
     "output_type": "execute_result"
    }
   ],
   "source": [
    "# check the unique campaign\n",
    "d_unique(df,'campaign')"
   ]
  },
  {
   "cell_type": "code",
   "execution_count": 71,
   "metadata": {},
   "outputs": [],
   "source": [
    "# drop customer name column\n",
    "df.drop('customer_name',axis=1,inplace=True)"
   ]
  },
  {
   "cell_type": "code",
   "execution_count": 72,
   "metadata": {},
   "outputs": [
    {
     "data": {
      "text/html": [
       "<div>\n",
       "<style scoped>\n",
       "    .dataframe tbody tr th:only-of-type {\n",
       "        vertical-align: middle;\n",
       "    }\n",
       "\n",
       "    .dataframe tbody tr th {\n",
       "        vertical-align: top;\n",
       "    }\n",
       "\n",
       "    .dataframe thead th {\n",
       "        text-align: right;\n",
       "    }\n",
       "</style>\n",
       "<table border=\"1\" class=\"dataframe\">\n",
       "  <thead>\n",
       "    <tr style=\"text-align: right;\">\n",
       "      <th></th>\n",
       "      <th>lead_id</th>\n",
       "      <th>message</th>\n",
       "      <th>lead_time</th>\n",
       "      <th>lead_source</th>\n",
       "      <th>campaign</th>\n",
       "      <th>low_qualified</th>\n",
       "    </tr>\n",
       "  </thead>\n",
       "  <tbody>\n",
       "    <tr>\n",
       "      <th>0</th>\n",
       "      <td>22</td>\n",
       "      <td>message: Idea about  the best area in Sheik Za...</td>\n",
       "      <td>2022-03-07 12:56:20.523509</td>\n",
       "      <td>google</td>\n",
       "      <td>sodic</td>\n",
       "      <td>0</td>\n",
       "    </tr>\n",
       "    <tr>\n",
       "      <th>1</th>\n",
       "      <td>30</td>\n",
       "      <td>ad_id : 23843176891470664 \n",
       "form_id : 367745493...</td>\n",
       "      <td>2019-09-16 13:17:18.459000</td>\n",
       "      <td>facebook</td>\n",
       "      <td>orascom lead generation</td>\n",
       "      <td>0</td>\n",
       "    </tr>\n",
       "    <tr>\n",
       "      <th>2</th>\n",
       "      <td>42</td>\n",
       "      <td>message:</td>\n",
       "      <td>2022-05-07 02:03:53.589687</td>\n",
       "      <td>google</td>\n",
       "      <td>locations</td>\n",
       "      <td>0</td>\n",
       "    </tr>\n",
       "    <tr>\n",
       "      <th>3</th>\n",
       "      <td>44</td>\n",
       "      <td>ad_id : 23844249544660664 \n",
       "adset_id : 23844249...</td>\n",
       "      <td>2019-12-19 22:56:46.662000</td>\n",
       "      <td>facebook</td>\n",
       "      <td>city edge lead generation</td>\n",
       "      <td>0</td>\n",
       "    </tr>\n",
       "    <tr>\n",
       "      <th>4</th>\n",
       "      <td>48</td>\n",
       "      <td>message:</td>\n",
       "      <td>2022-01-27 05:56:22.806753</td>\n",
       "      <td>google</td>\n",
       "      <td>inertia egypt</td>\n",
       "      <td>0</td>\n",
       "    </tr>\n",
       "  </tbody>\n",
       "</table>\n",
       "</div>"
      ],
      "text/plain": [
       "   lead_id                                            message  \\\n",
       "0       22  message: Idea about  the best area in Sheik Za...   \n",
       "1       30  ad_id : 23843176891470664 \n",
       "form_id : 367745493...   \n",
       "2       42                                          message:    \n",
       "3       44  ad_id : 23844249544660664 \n",
       "adset_id : 23844249...   \n",
       "4       48                                          message:    \n",
       "\n",
       "                   lead_time lead_source                   campaign  \\\n",
       "0 2022-03-07 12:56:20.523509      google                      sodic   \n",
       "1 2019-09-16 13:17:18.459000    facebook    orascom lead generation   \n",
       "2 2022-05-07 02:03:53.589687      google                  locations   \n",
       "3 2019-12-19 22:56:46.662000    facebook  city edge lead generation   \n",
       "4 2022-01-27 05:56:22.806753      google              inertia egypt   \n",
       "\n",
       "   low_qualified  \n",
       "0              0  \n",
       "1              0  \n",
       "2              0  \n",
       "3              0  \n",
       "4              0  "
      ]
     },
     "execution_count": 72,
     "metadata": {},
     "output_type": "execute_result"
    }
   ],
   "source": [
    "# print the head\n",
    "df.head()"
   ]
  },
  {
   "cell_type": "markdown",
   "metadata": {},
   "source": [
    "### Feature Engineering"
   ]
  },
  {
   "cell_type": "code",
   "execution_count": 73,
   "metadata": {},
   "outputs": [],
   "source": [
    "# function that translate the arabic name or string to english\n",
    "def translate_arabic(name):\n",
    "    if name.isascii()==False: \n",
    "        translator = Translator(from_lang=\"arabic\", to_lang=\"english\")\n",
    "        name = translator.translate(name)\n",
    "    return name"
   ]
  },
  {
   "cell_type": "code",
   "execution_count": 74,
   "metadata": {},
   "outputs": [],
   "source": [
    "# function to convert the names to male and female\n",
    "def gendre(name):\n",
    "    if name[0] in names.words('male.txt'):\n",
    "        return 'male'\n",
    "    elif name[0] in names.words('female.txt'):\n",
    "        return 'female'\n",
    "    else:\n",
    "        return 'null'\n",
    "    "
   ]
  },
  {
   "cell_type": "code",
   "execution_count": 75,
   "metadata": {},
   "outputs": [],
   "source": [
    "#df['customer_name']=df['customer_name'].apply(lambda n:   gendre(n))\n"
   ]
  },
  {
   "cell_type": "code",
   "execution_count": 76,
   "metadata": {},
   "outputs": [],
   "source": [
    "# create date function to create day,month,year,hour features\n",
    "def create_date(df):\n",
    "    df['day'] = df['lead_time'].dt.day\n",
    "    df['month'] = df['lead_time'].dt.month\n",
    "    df['year'] = df['lead_time'].dt.year\n",
    "    df['hour'] = df['lead_time'].dt.hour"
   ]
  },
  {
   "cell_type": "code",
   "execution_count": 77,
   "metadata": {},
   "outputs": [],
   "source": [
    "# create date features\n",
    "create_date(df)"
   ]
  },
  {
   "cell_type": "code",
   "execution_count": 78,
   "metadata": {},
   "outputs": [
    {
     "data": {
      "text/html": [
       "<div>\n",
       "<style scoped>\n",
       "    .dataframe tbody tr th:only-of-type {\n",
       "        vertical-align: middle;\n",
       "    }\n",
       "\n",
       "    .dataframe tbody tr th {\n",
       "        vertical-align: top;\n",
       "    }\n",
       "\n",
       "    .dataframe thead th {\n",
       "        text-align: right;\n",
       "    }\n",
       "</style>\n",
       "<table border=\"1\" class=\"dataframe\">\n",
       "  <thead>\n",
       "    <tr style=\"text-align: right;\">\n",
       "      <th></th>\n",
       "      <th>lead_id</th>\n",
       "      <th>message</th>\n",
       "      <th>lead_time</th>\n",
       "      <th>lead_source</th>\n",
       "      <th>campaign</th>\n",
       "      <th>low_qualified</th>\n",
       "      <th>day</th>\n",
       "      <th>month</th>\n",
       "      <th>year</th>\n",
       "      <th>hour</th>\n",
       "    </tr>\n",
       "  </thead>\n",
       "  <tbody>\n",
       "    <tr>\n",
       "      <th>0</th>\n",
       "      <td>22</td>\n",
       "      <td>message: Idea about  the best area in Sheik Za...</td>\n",
       "      <td>2022-03-07 12:56:20.523509</td>\n",
       "      <td>google</td>\n",
       "      <td>sodic</td>\n",
       "      <td>0</td>\n",
       "      <td>7</td>\n",
       "      <td>3</td>\n",
       "      <td>2022</td>\n",
       "      <td>12</td>\n",
       "    </tr>\n",
       "    <tr>\n",
       "      <th>1</th>\n",
       "      <td>30</td>\n",
       "      <td>ad_id : 23843176891470664 \n",
       "form_id : 367745493...</td>\n",
       "      <td>2019-09-16 13:17:18.459000</td>\n",
       "      <td>facebook</td>\n",
       "      <td>orascom lead generation</td>\n",
       "      <td>0</td>\n",
       "      <td>16</td>\n",
       "      <td>9</td>\n",
       "      <td>2019</td>\n",
       "      <td>13</td>\n",
       "    </tr>\n",
       "    <tr>\n",
       "      <th>2</th>\n",
       "      <td>42</td>\n",
       "      <td>message:</td>\n",
       "      <td>2022-05-07 02:03:53.589687</td>\n",
       "      <td>google</td>\n",
       "      <td>locations</td>\n",
       "      <td>0</td>\n",
       "      <td>7</td>\n",
       "      <td>5</td>\n",
       "      <td>2022</td>\n",
       "      <td>2</td>\n",
       "    </tr>\n",
       "    <tr>\n",
       "      <th>3</th>\n",
       "      <td>44</td>\n",
       "      <td>ad_id : 23844249544660664 \n",
       "adset_id : 23844249...</td>\n",
       "      <td>2019-12-19 22:56:46.662000</td>\n",
       "      <td>facebook</td>\n",
       "      <td>city edge lead generation</td>\n",
       "      <td>0</td>\n",
       "      <td>19</td>\n",
       "      <td>12</td>\n",
       "      <td>2019</td>\n",
       "      <td>22</td>\n",
       "    </tr>\n",
       "    <tr>\n",
       "      <th>4</th>\n",
       "      <td>48</td>\n",
       "      <td>message:</td>\n",
       "      <td>2022-01-27 05:56:22.806753</td>\n",
       "      <td>google</td>\n",
       "      <td>inertia egypt</td>\n",
       "      <td>0</td>\n",
       "      <td>27</td>\n",
       "      <td>1</td>\n",
       "      <td>2022</td>\n",
       "      <td>5</td>\n",
       "    </tr>\n",
       "  </tbody>\n",
       "</table>\n",
       "</div>"
      ],
      "text/plain": [
       "   lead_id                                            message  \\\n",
       "0       22  message: Idea about  the best area in Sheik Za...   \n",
       "1       30  ad_id : 23843176891470664 \n",
       "form_id : 367745493...   \n",
       "2       42                                          message:    \n",
       "3       44  ad_id : 23844249544660664 \n",
       "adset_id : 23844249...   \n",
       "4       48                                          message:    \n",
       "\n",
       "                   lead_time lead_source                   campaign  \\\n",
       "0 2022-03-07 12:56:20.523509      google                      sodic   \n",
       "1 2019-09-16 13:17:18.459000    facebook    orascom lead generation   \n",
       "2 2022-05-07 02:03:53.589687      google                  locations   \n",
       "3 2019-12-19 22:56:46.662000    facebook  city edge lead generation   \n",
       "4 2022-01-27 05:56:22.806753      google              inertia egypt   \n",
       "\n",
       "   low_qualified  day  month  year  hour  \n",
       "0              0    7      3  2022    12  \n",
       "1              0   16      9  2019    13  \n",
       "2              0    7      5  2022     2  \n",
       "3              0   19     12  2019    22  \n",
       "4              0   27      1  2022     5  "
      ]
     },
     "execution_count": 78,
     "metadata": {},
     "output_type": "execute_result"
    }
   ],
   "source": [
    "df.head()"
   ]
  },
  {
   "cell_type": "code",
   "execution_count": 79,
   "metadata": {},
   "outputs": [],
   "source": [
    "# drop lead_time column\n",
    "df.drop(['lead_time','lead_id'],axis=1,inplace=True)"
   ]
  },
  {
   "cell_type": "code",
   "execution_count": 80,
   "metadata": {},
   "outputs": [],
   "source": [
    "# message preprocess function\n",
    "def message_preprocess(text):\n",
    "    #remove links\n",
    "    text = re.sub(r'https?:\\/\\/.*', '', text)\n",
    "    # replace numbers\n",
    "    text = re.sub(\"\\d+\", \" \", text)\n",
    "    # replace not word characters    \n",
    "    text = re.sub(r'[^\\w]+', ' ', text)\n",
    "    # convert string to lowercase\n",
    "    text=text.lower().strip()\n",
    "    # remove extra spaces\n",
    "    text=re.sub(' +', ' ',text)\n",
    "    # Lemmatize the word\n",
    "    lem=WordNetLemmatizer()\n",
    "    lem.lemmatize(text)\n",
    "    return text\n",
    "    "
   ]
  },
  {
   "cell_type": "code",
   "execution_count": 81,
   "metadata": {},
   "outputs": [
    {
     "data": {
      "text/plain": [
       "0        message idea about the best area in sheik zaid...\n",
       "1                        ad_id form_id platform fb lead_id\n",
       "2                                                  message\n",
       "3        ad_id adset_id campaign_id confirm_your_phone_...\n",
       "4                                                  message\n",
       "                               ...                        \n",
       "91124    ad_id adgroup_id adset_id campaign_id confirm_...\n",
       "91125    ad_id adgroup_id adset_id campaign_id created_...\n",
       "91126                                              message\n",
       "91127    ad_id adgroup_id adset_id campaign_id created_...\n",
       "91128    ad_id adgroup_id adset_id campaign_id created_...\n",
       "Name: message, Length: 70094, dtype: object"
      ]
     },
     "execution_count": 81,
     "metadata": {},
     "output_type": "execute_result"
    }
   ],
   "source": [
    "# apply message preprocess function on message column\n",
    "df['message'] = df['message'].apply(lambda t:message_preprocess(t))\n",
    "df['message']"
   ]
  },
  {
   "cell_type": "code",
   "execution_count": 82,
   "metadata": {},
   "outputs": [
    {
     "data": {
      "text/plain": [
       "['__',\n",
       " '___',\n",
       " 'ad_id',\n",
       " 'adgroup_id',\n",
       " 'adset_id',\n",
       " 'answer',\n",
       " 'apartment',\n",
       " 'author_id',\n",
       " 'author_type',\n",
       " 'background',\n",
       " 'best_time_to_call',\n",
       " 'body',\n",
       " 'border',\n",
       " 'called',\n",
       " 'campaign_id',\n",
       " 'class',\n",
       " 'code',\n",
       " 'color',\n",
       " 'confirm_your_number',\n",
       " 'confirm_your_phone_number',\n",
       " 'confirm_your_phone_number_',\n",
       " 'created_time',\n",
       " 'details',\n",
       " 'egypt',\n",
       " 'facebook_id',\n",
       " 'fb',\n",
       " 'ff',\n",
       " 'form_id',\n",
       " 'ig',\n",
       " 'information',\n",
       " 'interested',\n",
       " 'leadgen_id',\n",
       " 'like',\n",
       " 'location',\n",
       " 'looking',\n",
       " 'message',\n",
       " 'need',\n",
       " 'new',\n",
       " 'padding',\n",
       " 'page_id',\n",
       " 'platform',\n",
       " 'pre',\n",
       " 'promo',\n",
       " 'px',\n",
       " 'radius',\n",
       " 'request',\n",
       " 'span',\n",
       " 'status',\n",
       " 'style',\n",
       " 'url']"
      ]
     },
     "execution_count": 82,
     "metadata": {},
     "output_type": "execute_result"
    }
   ],
   "source": [
    "# apply CountVectorizer to message column\n",
    "vectorizer = CountVectorizer(strip_accents='ascii',stop_words='english',max_features=50)\n",
    "mv = vectorizer.fit_transform(df['message'])\n",
    "vectorizer.get_feature_names()"
   ]
  },
  {
   "cell_type": "code",
   "execution_count": 83,
   "metadata": {},
   "outputs": [],
   "source": [
    "# append message features after applying count vectorizer\n",
    "df[vectorizer.get_feature_names()]=mv.toarray().tolist()"
   ]
  },
  {
   "cell_type": "code",
   "execution_count": 84,
   "metadata": {},
   "outputs": [],
   "source": [
    "# drop unuseful feature\n",
    "df.drop(['__','___','ad_id','adgroup_id','adset_id','author_id','author_type','body','border','class','code','color','confirm_your_number','confirm_your_phone_number_',\n",
    " 'created_time','facebook_id','fb','ff','form_id','ig','leadgen_id','message','padding','page_id','platform','pre','promo','px','radius','request','span','status','style','url'],axis=1,inplace=True)"
   ]
  },
  {
   "cell_type": "code",
   "execution_count": 85,
   "metadata": {},
   "outputs": [
    {
     "data": {
      "text/html": [
       "<div>\n",
       "<style scoped>\n",
       "    .dataframe tbody tr th:only-of-type {\n",
       "        vertical-align: middle;\n",
       "    }\n",
       "\n",
       "    .dataframe tbody tr th {\n",
       "        vertical-align: top;\n",
       "    }\n",
       "\n",
       "    .dataframe thead th {\n",
       "        text-align: right;\n",
       "    }\n",
       "</style>\n",
       "<table border=\"1\" class=\"dataframe\">\n",
       "  <thead>\n",
       "    <tr style=\"text-align: right;\">\n",
       "      <th></th>\n",
       "      <th>lead_source</th>\n",
       "      <th>campaign</th>\n",
       "      <th>low_qualified</th>\n",
       "      <th>day</th>\n",
       "      <th>month</th>\n",
       "      <th>year</th>\n",
       "      <th>hour</th>\n",
       "      <th>answer</th>\n",
       "      <th>apartment</th>\n",
       "      <th>background</th>\n",
       "      <th>...</th>\n",
       "      <th>confirm_your_phone_number</th>\n",
       "      <th>details</th>\n",
       "      <th>egypt</th>\n",
       "      <th>information</th>\n",
       "      <th>interested</th>\n",
       "      <th>like</th>\n",
       "      <th>location</th>\n",
       "      <th>looking</th>\n",
       "      <th>need</th>\n",
       "      <th>new</th>\n",
       "    </tr>\n",
       "  </thead>\n",
       "  <tbody>\n",
       "    <tr>\n",
       "      <th>0</th>\n",
       "      <td>google</td>\n",
       "      <td>sodic</td>\n",
       "      <td>0</td>\n",
       "      <td>7</td>\n",
       "      <td>3</td>\n",
       "      <td>2022</td>\n",
       "      <td>12</td>\n",
       "      <td>0</td>\n",
       "      <td>0</td>\n",
       "      <td>0</td>\n",
       "      <td>...</td>\n",
       "      <td>0</td>\n",
       "      <td>0</td>\n",
       "      <td>0</td>\n",
       "      <td>0</td>\n",
       "      <td>0</td>\n",
       "      <td>0</td>\n",
       "      <td>0</td>\n",
       "      <td>0</td>\n",
       "      <td>0</td>\n",
       "      <td>0</td>\n",
       "    </tr>\n",
       "    <tr>\n",
       "      <th>1</th>\n",
       "      <td>facebook</td>\n",
       "      <td>orascom lead generation</td>\n",
       "      <td>0</td>\n",
       "      <td>16</td>\n",
       "      <td>9</td>\n",
       "      <td>2019</td>\n",
       "      <td>13</td>\n",
       "      <td>0</td>\n",
       "      <td>0</td>\n",
       "      <td>0</td>\n",
       "      <td>...</td>\n",
       "      <td>0</td>\n",
       "      <td>0</td>\n",
       "      <td>0</td>\n",
       "      <td>0</td>\n",
       "      <td>0</td>\n",
       "      <td>0</td>\n",
       "      <td>0</td>\n",
       "      <td>0</td>\n",
       "      <td>0</td>\n",
       "      <td>0</td>\n",
       "    </tr>\n",
       "    <tr>\n",
       "      <th>2</th>\n",
       "      <td>google</td>\n",
       "      <td>locations</td>\n",
       "      <td>0</td>\n",
       "      <td>7</td>\n",
       "      <td>5</td>\n",
       "      <td>2022</td>\n",
       "      <td>2</td>\n",
       "      <td>0</td>\n",
       "      <td>0</td>\n",
       "      <td>0</td>\n",
       "      <td>...</td>\n",
       "      <td>0</td>\n",
       "      <td>0</td>\n",
       "      <td>0</td>\n",
       "      <td>0</td>\n",
       "      <td>0</td>\n",
       "      <td>0</td>\n",
       "      <td>0</td>\n",
       "      <td>0</td>\n",
       "      <td>0</td>\n",
       "      <td>0</td>\n",
       "    </tr>\n",
       "    <tr>\n",
       "      <th>3</th>\n",
       "      <td>facebook</td>\n",
       "      <td>city edge lead generation</td>\n",
       "      <td>0</td>\n",
       "      <td>19</td>\n",
       "      <td>12</td>\n",
       "      <td>2019</td>\n",
       "      <td>22</td>\n",
       "      <td>0</td>\n",
       "      <td>0</td>\n",
       "      <td>0</td>\n",
       "      <td>...</td>\n",
       "      <td>1</td>\n",
       "      <td>0</td>\n",
       "      <td>0</td>\n",
       "      <td>0</td>\n",
       "      <td>0</td>\n",
       "      <td>0</td>\n",
       "      <td>0</td>\n",
       "      <td>0</td>\n",
       "      <td>0</td>\n",
       "      <td>0</td>\n",
       "    </tr>\n",
       "    <tr>\n",
       "      <th>4</th>\n",
       "      <td>google</td>\n",
       "      <td>inertia egypt</td>\n",
       "      <td>0</td>\n",
       "      <td>27</td>\n",
       "      <td>1</td>\n",
       "      <td>2022</td>\n",
       "      <td>5</td>\n",
       "      <td>0</td>\n",
       "      <td>0</td>\n",
       "      <td>0</td>\n",
       "      <td>...</td>\n",
       "      <td>0</td>\n",
       "      <td>0</td>\n",
       "      <td>0</td>\n",
       "      <td>0</td>\n",
       "      <td>0</td>\n",
       "      <td>0</td>\n",
       "      <td>0</td>\n",
       "      <td>0</td>\n",
       "      <td>0</td>\n",
       "      <td>0</td>\n",
       "    </tr>\n",
       "  </tbody>\n",
       "</table>\n",
       "<p>5 rows × 23 columns</p>\n",
       "</div>"
      ],
      "text/plain": [
       "  lead_source                   campaign  low_qualified  day  month  year  \\\n",
       "0      google                      sodic              0    7      3  2022   \n",
       "1    facebook    orascom lead generation              0   16      9  2019   \n",
       "2      google                  locations              0    7      5  2022   \n",
       "3    facebook  city edge lead generation              0   19     12  2019   \n",
       "4      google              inertia egypt              0   27      1  2022   \n",
       "\n",
       "   hour  answer  apartment  background  ...  confirm_your_phone_number  \\\n",
       "0    12       0          0           0  ...                          0   \n",
       "1    13       0          0           0  ...                          0   \n",
       "2     2       0          0           0  ...                          0   \n",
       "3    22       0          0           0  ...                          1   \n",
       "4     5       0          0           0  ...                          0   \n",
       "\n",
       "   details  egypt  information  interested  like  location  looking  need  new  \n",
       "0        0      0            0           0     0         0        0     0    0  \n",
       "1        0      0            0           0     0         0        0     0    0  \n",
       "2        0      0            0           0     0         0        0     0    0  \n",
       "3        0      0            0           0     0         0        0     0    0  \n",
       "4        0      0            0           0     0         0        0     0    0  \n",
       "\n",
       "[5 rows x 23 columns]"
      ]
     },
     "execution_count": 85,
     "metadata": {},
     "output_type": "execute_result"
    }
   ],
   "source": [
    "df.head()"
   ]
  },
  {
   "cell_type": "code",
   "execution_count": 86,
   "metadata": {},
   "outputs": [],
   "source": [
    "# applying one hot encode on lead_source and campagin features\n",
    "df = pd.get_dummies(data=df, columns=['lead_source','campaign'])\n"
   ]
  },
  {
   "cell_type": "code",
   "execution_count": 87,
   "metadata": {},
   "outputs": [
    {
     "data": {
      "text/html": [
       "<div>\n",
       "<style scoped>\n",
       "    .dataframe tbody tr th:only-of-type {\n",
       "        vertical-align: middle;\n",
       "    }\n",
       "\n",
       "    .dataframe tbody tr th {\n",
       "        vertical-align: top;\n",
       "    }\n",
       "\n",
       "    .dataframe thead th {\n",
       "        text-align: right;\n",
       "    }\n",
       "</style>\n",
       "<table border=\"1\" class=\"dataframe\">\n",
       "  <thead>\n",
       "    <tr style=\"text-align: right;\">\n",
       "      <th></th>\n",
       "      <th>low_qualified</th>\n",
       "      <th>day</th>\n",
       "      <th>month</th>\n",
       "      <th>year</th>\n",
       "      <th>hour</th>\n",
       "      <th>answer</th>\n",
       "      <th>apartment</th>\n",
       "      <th>background</th>\n",
       "      <th>best_time_to_call</th>\n",
       "      <th>called</th>\n",
       "      <th>...</th>\n",
       "      <th>campaign_village west oms</th>\n",
       "      <th>campaign_vresidence</th>\n",
       "      <th>campaign_vye</th>\n",
       "      <th>campaign_vye bedroom</th>\n",
       "      <th>campaign_webretargeting</th>\n",
       "      <th>campaign_zed</th>\n",
       "      <th>campaign_zed east</th>\n",
       "      <th>campaign_zed east a b testing lead generation</th>\n",
       "      <th>campaign_zed west</th>\n",
       "      <th>campaign_zedeastsms</th>\n",
       "    </tr>\n",
       "  </thead>\n",
       "  <tbody>\n",
       "    <tr>\n",
       "      <th>0</th>\n",
       "      <td>0</td>\n",
       "      <td>7</td>\n",
       "      <td>3</td>\n",
       "      <td>2022</td>\n",
       "      <td>12</td>\n",
       "      <td>0</td>\n",
       "      <td>0</td>\n",
       "      <td>0</td>\n",
       "      <td>0</td>\n",
       "      <td>0</td>\n",
       "      <td>...</td>\n",
       "      <td>0</td>\n",
       "      <td>0</td>\n",
       "      <td>0</td>\n",
       "      <td>0</td>\n",
       "      <td>0</td>\n",
       "      <td>0</td>\n",
       "      <td>0</td>\n",
       "      <td>0</td>\n",
       "      <td>0</td>\n",
       "      <td>0</td>\n",
       "    </tr>\n",
       "    <tr>\n",
       "      <th>1</th>\n",
       "      <td>0</td>\n",
       "      <td>16</td>\n",
       "      <td>9</td>\n",
       "      <td>2019</td>\n",
       "      <td>13</td>\n",
       "      <td>0</td>\n",
       "      <td>0</td>\n",
       "      <td>0</td>\n",
       "      <td>0</td>\n",
       "      <td>0</td>\n",
       "      <td>...</td>\n",
       "      <td>0</td>\n",
       "      <td>0</td>\n",
       "      <td>0</td>\n",
       "      <td>0</td>\n",
       "      <td>0</td>\n",
       "      <td>0</td>\n",
       "      <td>0</td>\n",
       "      <td>0</td>\n",
       "      <td>0</td>\n",
       "      <td>0</td>\n",
       "    </tr>\n",
       "    <tr>\n",
       "      <th>2</th>\n",
       "      <td>0</td>\n",
       "      <td>7</td>\n",
       "      <td>5</td>\n",
       "      <td>2022</td>\n",
       "      <td>2</td>\n",
       "      <td>0</td>\n",
       "      <td>0</td>\n",
       "      <td>0</td>\n",
       "      <td>0</td>\n",
       "      <td>0</td>\n",
       "      <td>...</td>\n",
       "      <td>0</td>\n",
       "      <td>0</td>\n",
       "      <td>0</td>\n",
       "      <td>0</td>\n",
       "      <td>0</td>\n",
       "      <td>0</td>\n",
       "      <td>0</td>\n",
       "      <td>0</td>\n",
       "      <td>0</td>\n",
       "      <td>0</td>\n",
       "    </tr>\n",
       "    <tr>\n",
       "      <th>3</th>\n",
       "      <td>0</td>\n",
       "      <td>19</td>\n",
       "      <td>12</td>\n",
       "      <td>2019</td>\n",
       "      <td>22</td>\n",
       "      <td>0</td>\n",
       "      <td>0</td>\n",
       "      <td>0</td>\n",
       "      <td>0</td>\n",
       "      <td>0</td>\n",
       "      <td>...</td>\n",
       "      <td>0</td>\n",
       "      <td>0</td>\n",
       "      <td>0</td>\n",
       "      <td>0</td>\n",
       "      <td>0</td>\n",
       "      <td>0</td>\n",
       "      <td>0</td>\n",
       "      <td>0</td>\n",
       "      <td>0</td>\n",
       "      <td>0</td>\n",
       "    </tr>\n",
       "    <tr>\n",
       "      <th>4</th>\n",
       "      <td>0</td>\n",
       "      <td>27</td>\n",
       "      <td>1</td>\n",
       "      <td>2022</td>\n",
       "      <td>5</td>\n",
       "      <td>0</td>\n",
       "      <td>0</td>\n",
       "      <td>0</td>\n",
       "      <td>0</td>\n",
       "      <td>0</td>\n",
       "      <td>...</td>\n",
       "      <td>0</td>\n",
       "      <td>0</td>\n",
       "      <td>0</td>\n",
       "      <td>0</td>\n",
       "      <td>0</td>\n",
       "      <td>0</td>\n",
       "      <td>0</td>\n",
       "      <td>0</td>\n",
       "      <td>0</td>\n",
       "      <td>0</td>\n",
       "    </tr>\n",
       "  </tbody>\n",
       "</table>\n",
       "<p>5 rows × 549 columns</p>\n",
       "</div>"
      ],
      "text/plain": [
       "   low_qualified  day  month  year  hour  answer  apartment  background  \\\n",
       "0              0    7      3  2022    12       0          0           0   \n",
       "1              0   16      9  2019    13       0          0           0   \n",
       "2              0    7      5  2022     2       0          0           0   \n",
       "3              0   19     12  2019    22       0          0           0   \n",
       "4              0   27      1  2022     5       0          0           0   \n",
       "\n",
       "   best_time_to_call  called  ...  campaign_village west oms  \\\n",
       "0                  0       0  ...                          0   \n",
       "1                  0       0  ...                          0   \n",
       "2                  0       0  ...                          0   \n",
       "3                  0       0  ...                          0   \n",
       "4                  0       0  ...                          0   \n",
       "\n",
       "   campaign_vresidence  campaign_vye  campaign_vye bedroom  \\\n",
       "0                    0             0                     0   \n",
       "1                    0             0                     0   \n",
       "2                    0             0                     0   \n",
       "3                    0             0                     0   \n",
       "4                    0             0                     0   \n",
       "\n",
       "   campaign_webretargeting  campaign_zed  campaign_zed east  \\\n",
       "0                        0             0                  0   \n",
       "1                        0             0                  0   \n",
       "2                        0             0                  0   \n",
       "3                        0             0                  0   \n",
       "4                        0             0                  0   \n",
       "\n",
       "   campaign_zed east a b testing lead generation  campaign_zed west  \\\n",
       "0                                              0                  0   \n",
       "1                                              0                  0   \n",
       "2                                              0                  0   \n",
       "3                                              0                  0   \n",
       "4                                              0                  0   \n",
       "\n",
       "   campaign_zedeastsms  \n",
       "0                    0  \n",
       "1                    0  \n",
       "2                    0  \n",
       "3                    0  \n",
       "4                    0  \n",
       "\n",
       "[5 rows x 549 columns]"
      ]
     },
     "execution_count": 87,
     "metadata": {},
     "output_type": "execute_result"
    }
   ],
   "source": [
    "df.head()"
   ]
  },
  {
   "cell_type": "code",
   "execution_count": 94,
   "metadata": {},
   "outputs": [],
   "source": [
    "# save the transformed dataset\n",
    "engine=create_engine('sqlite:///nawytransformed.db')\n",
    "df.to_sql('nawytransformed', engine, index=False)"
   ]
  },
  {
   "cell_type": "code",
   "execution_count": null,
   "metadata": {},
   "outputs": [],
   "source": []
  }
 ],
 "metadata": {
  "kernelspec": {
   "display_name": "Python 3",
   "language": "python",
   "name": "python3"
  },
  "language_info": {
   "codemirror_mode": {
    "name": "ipython",
    "version": 3
   },
   "file_extension": ".py",
   "mimetype": "text/x-python",
   "name": "python",
   "nbconvert_exporter": "python",
   "pygments_lexer": "ipython3",
   "version": "3.7.4"
  }
 },
 "nbformat": 4,
 "nbformat_minor": 1
}
