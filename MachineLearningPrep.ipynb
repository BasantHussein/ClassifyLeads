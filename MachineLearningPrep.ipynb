{
 "cells": [
  {
   "cell_type": "markdown",
   "metadata": {},
   "source": [
    "# Classify Leads\n",
    "## Machine Learning "
   ]
  },
  {
   "cell_type": "markdown",
   "metadata": {},
   "source": [
    "This notebook includes:\n",
    "\n",
    "1. Data oversampling\n",
    "2. Model building\n",
    "3. Model tuning"
   ]
  },
  {
   "cell_type": "markdown",
   "metadata": {},
   "source": [
    "----\n",
    "## Data Oversampling\n",
    "\n",
    "oversampling the minority class"
   ]
  },
  {
   "cell_type": "code",
   "execution_count": 17,
   "metadata": {},
   "outputs": [
    {
     "name": "stdout",
     "output_type": "stream",
     "text": [
      "Collecting imbalanced-learn\n",
      "  Downloading imbalanced_learn-0.9.1-py3-none-any.whl (199 kB)\n",
      "Requirement already satisfied: numpy>=1.17.3 in c:\\users\\el7md\\anaconda3\\lib\\site-packages (from imbalanced-learn) (1.18.1)\n",
      "Collecting joblib>=1.0.0\n",
      "  Downloading joblib-1.1.0-py2.py3-none-any.whl (306 kB)\n",
      "Requirement already satisfied: threadpoolctl>=2.0.0 in c:\\users\\el7md\\anaconda3\\lib\\site-packages (from imbalanced-learn) (2.1.0)\n",
      "Requirement already satisfied: scipy>=1.3.2 in c:\\users\\el7md\\anaconda3\\lib\\site-packages (from imbalanced-learn) (1.7.3)\n",
      "Note: you may need to restart the kernel to use updated packages.\n"
     ]
    },
    {
     "name": "stderr",
     "output_type": "stream",
     "text": [
      "ERROR: Could not find a version that satisfies the requirement scikit-learn>=1.1.0 (from imbalanced-learn) (from versions: 0.9, 0.10, 0.11, 0.12, 0.12.1, 0.13, 0.13.1, 0.14, 0.14.1, 0.15.0b1, 0.15.0b2, 0.15.0, 0.15.1, 0.15.2, 0.16b1, 0.16.0, 0.16.1, 0.17b1, 0.17, 0.17.1, 0.18, 0.18.1, 0.18.2, 0.19b2, 0.19.0, 0.19.1, 0.19.2, 0.20rc1, 0.20.0, 0.20.1, 0.20.2, 0.20.3, 0.20.4, 0.21rc2, 0.21.0, 0.21.1, 0.21.2, 0.21.3, 0.22rc2.post1, 0.22rc3, 0.22, 0.22.1, 0.22.2, 0.22.2.post1, 0.23.0rc1, 0.23.0, 0.23.1, 0.23.2, 0.24.dev0, 0.24.0rc1, 0.24.0, 0.24.1, 0.24.2, 1.0rc1, 1.0rc2, 1.0, 1.0.1, 1.0.2)\n",
      "ERROR: No matching distribution found for scikit-learn>=1.1.0 (from imbalanced-learn)\n",
      "WARNING: You are using pip version 20.2.2; however, version 22.1.2 is available.\n",
      "You should consider upgrading via the 'C:\\Users\\EL7md\\anaconda3\\python.exe -m pip install --upgrade pip' command.\n"
     ]
    }
   ],
   "source": [
    "pip install imbalanced-learn"
   ]
  },
  {
   "cell_type": "code",
   "execution_count": 24,
   "metadata": {},
   "outputs": [
    {
     "name": "stdout",
     "output_type": "stream",
     "text": [
      "Collecting package metadata (current_repodata.json): ...working... done\n",
      "Solving environment: ...working... done\n",
      "\n",
      "## Package Plan ##\n",
      "\n",
      "  environment location: C:\\Users\\EL7md\\anaconda3\n",
      "\n",
      "  added / updated specs:\n",
      "    - imbalanced-learn\n",
      "\n",
      "\n",
      "The following packages will be downloaded:\n",
      "\n",
      "    package                    |            build\n",
      "    ---------------------------|-----------------\n",
      "    ca-certificates-2022.5.18.1|       h5b45459_0         180 KB  conda-forge\n",
      "    certifi-2022.5.18.1        |   py37h03978a9_0         151 KB  conda-forge\n",
      "    conda-4.13.0               |   py37h03978a9_1        1001 KB  conda-forge\n",
      "    imbalanced-learn-0.7.0     |             py_1          97 KB  conda-forge\n",
      "    openssl-1.1.1l             |       h8ffe710_0         5.7 MB  conda-forge\n",
      "    python_abi-3.7             |          2_cp37m           4 KB  conda-forge\n",
      "    ------------------------------------------------------------\n",
      "                                           Total:         7.1 MB\n",
      "\n",
      "The following NEW packages will be INSTALLED:\n",
      "\n",
      "  imbalanced-learn   conda-forge/noarch::imbalanced-learn-0.7.0-py_1\n",
      "  python_abi         conda-forge/win-64::python_abi-3.7-2_cp37m\n",
      "\n",
      "The following packages will be UPDATED:\n",
      "\n",
      "  ca-certificates    pkgs/main::ca-certificates-2021.4.13-~ --> conda-forge::ca-certificates-2022.5.18.1-h5b45459_0\n",
      "  certifi            pkgs/main::certifi-2020.12.5-py37haa9~ --> conda-forge::certifi-2022.5.18.1-py37h03978a9_0\n",
      "  conda              pkgs/main::conda-4.10.1-py37haa95532_1 --> conda-forge::conda-4.13.0-py37h03978a9_1\n",
      "  openssl              pkgs/main::openssl-1.1.1k-h2bbff1b_0 --> conda-forge::openssl-1.1.1l-h8ffe710_0\n",
      "\n",
      "\n",
      "\n",
      "Downloading and Extracting Packages\n",
      "\n",
      "conda-4.13.0         | 1001 KB   |            |   0% \n",
      "conda-4.13.0         | 1001 KB   | 1          |   2% \n",
      "conda-4.13.0         | 1001 KB   | 6          |   6% \n",
      "conda-4.13.0         | 1001 KB   | #1         |  11% \n",
      "conda-4.13.0         | 1001 KB   | #5         |  16% \n",
      "conda-4.13.0         | 1001 KB   | ##         |  21% \n",
      "conda-4.13.0         | 1001 KB   | ##5        |  26% \n",
      "conda-4.13.0         | 1001 KB   | ###        |  30% \n",
      "conda-4.13.0         | 1001 KB   | ###6       |  37% \n",
      "conda-4.13.0         | 1001 KB   | ####3      |  43% \n",
      "conda-4.13.0         | 1001 KB   | ####6      |  46% \n",
      "conda-4.13.0         | 1001 KB   | #####5     |  56% \n",
      "conda-4.13.0         | 1001 KB   | #######5   |  75% \n",
      "conda-4.13.0         | 1001 KB   | #########1 |  91% \n",
      "conda-4.13.0         | 1001 KB   | #########7 |  98% \n",
      "conda-4.13.0         | 1001 KB   | ########## | 100% \n",
      "\n",
      "certifi-2022.5.18.1  | 151 KB    |            |   0% \n",
      "certifi-2022.5.18.1  | 151 KB    | #          |  11% \n",
      "certifi-2022.5.18.1  | 151 KB    | ########## | 100% \n",
      "certifi-2022.5.18.1  | 151 KB    | ########## | 100% \n",
      "\n",
      "python_abi-3.7       | 4 KB      |            |   0% \n",
      "python_abi-3.7       | 4 KB      | ########## | 100% \n",
      "python_abi-3.7       | 4 KB      | ########## | 100% \n",
      "\n",
      "imbalanced-learn-0.7 | 97 KB     |            |   0% \n",
      "imbalanced-learn-0.7 | 97 KB     | #6         |  17% \n",
      "imbalanced-learn-0.7 | 97 KB     | ########2  |  83% \n",
      "imbalanced-learn-0.7 | 97 KB     | ########## | 100% \n",
      "imbalanced-learn-0.7 | 97 KB     | ########## | 100% \n",
      "\n",
      "openssl-1.1.1l       | 5.7 MB    |            |   0% \n",
      "openssl-1.1.1l       | 5.7 MB    |            |   0% \n",
      "openssl-1.1.1l       | 5.7 MB    | 3          |   4% \n",
      "openssl-1.1.1l       | 5.7 MB    | 4          |   5% \n",
      "openssl-1.1.1l       | 5.7 MB    | 6          |   6% \n",
      "openssl-1.1.1l       | 5.7 MB    | 7          |   7% \n",
      "openssl-1.1.1l       | 5.7 MB    | 8          |   8% \n",
      "openssl-1.1.1l       | 5.7 MB    | 9          |   9% \n",
      "openssl-1.1.1l       | 5.7 MB    | #          |  10% \n",
      "openssl-1.1.1l       | 5.7 MB    | #1         |  11% \n",
      "openssl-1.1.1l       | 5.7 MB    | #2         |  13% \n",
      "openssl-1.1.1l       | 5.7 MB    | #4         |  14% \n",
      "openssl-1.1.1l       | 5.7 MB    | #7         |  17% \n",
      "openssl-1.1.1l       | 5.7 MB    | #8         |  19% \n",
      "openssl-1.1.1l       | 5.7 MB    | ##1        |  22% \n",
      "openssl-1.1.1l       | 5.7 MB    | ##3        |  23% \n",
      "openssl-1.1.1l       | 5.7 MB    | ##4        |  25% \n",
      "openssl-1.1.1l       | 5.7 MB    | ##5        |  26% \n",
      "openssl-1.1.1l       | 5.7 MB    | ##7        |  27% \n",
      "openssl-1.1.1l       | 5.7 MB    | ##8        |  28% \n",
      "openssl-1.1.1l       | 5.7 MB    | ##9        |  29% \n",
      "openssl-1.1.1l       | 5.7 MB    | ###1       |  32% \n",
      "openssl-1.1.1l       | 5.7 MB    | ###4       |  34% \n",
      "openssl-1.1.1l       | 5.7 MB    | ###5       |  36% \n",
      "openssl-1.1.1l       | 5.7 MB    | ###7       |  37% \n",
      "openssl-1.1.1l       | 5.7 MB    | ###8       |  38% \n",
      "openssl-1.1.1l       | 5.7 MB    | ###9       |  39% \n",
      "openssl-1.1.1l       | 5.7 MB    | ####2      |  43% \n",
      "openssl-1.1.1l       | 5.7 MB    | ####7      |  48% \n",
      "openssl-1.1.1l       | 5.7 MB    | ####9      |  49% \n",
      "openssl-1.1.1l       | 5.7 MB    | #####      |  51% \n",
      "openssl-1.1.1l       | 5.7 MB    | #####1     |  52% \n",
      "openssl-1.1.1l       | 5.7 MB    | #####6     |  56% \n",
      "openssl-1.1.1l       | 5.7 MB    | #####7     |  57% \n",
      "openssl-1.1.1l       | 5.7 MB    | #####9     |  59% \n",
      "openssl-1.1.1l       | 5.7 MB    | ######     |  61% \n",
      "openssl-1.1.1l       | 5.7 MB    | ######1    |  62% \n",
      "openssl-1.1.1l       | 5.7 MB    | ######6    |  66% \n",
      "openssl-1.1.1l       | 5.7 MB    | ######7    |  67% \n",
      "openssl-1.1.1l       | 5.7 MB    | ######8    |  68% \n",
      "openssl-1.1.1l       | 5.7 MB    | #######    |  71% \n",
      "openssl-1.1.1l       | 5.7 MB    | #######2   |  73% \n",
      "openssl-1.1.1l       | 5.7 MB    | #######5   |  76% \n",
      "openssl-1.1.1l       | 5.7 MB    | ########   |  80% \n",
      "openssl-1.1.1l       | 5.7 MB    | ########1  |  82% \n",
      "openssl-1.1.1l       | 5.7 MB    | ########5  |  86% \n",
      "openssl-1.1.1l       | 5.7 MB    | ########7  |  88% \n",
      "openssl-1.1.1l       | 5.7 MB    | ########9  |  89% \n",
      "openssl-1.1.1l       | 5.7 MB    | #########  |  91% \n",
      "openssl-1.1.1l       | 5.7 MB    | #########2 |  92% \n",
      "openssl-1.1.1l       | 5.7 MB    | #########4 |  94% \n",
      "openssl-1.1.1l       | 5.7 MB    | #########6 |  97% \n",
      "openssl-1.1.1l       | 5.7 MB    | #########7 |  98% \n",
      "openssl-1.1.1l       | 5.7 MB    | ########## | 100% \n",
      "openssl-1.1.1l       | 5.7 MB    | ########## | 100% \n",
      "\n",
      "ca-certificates-2022 | 180 KB    |            |   0% \n",
      "ca-certificates-2022 | 180 KB    | 8          |   9% \n",
      "ca-certificates-2022 | 180 KB    | ########## | 100% \n",
      "ca-certificates-2022 | 180 KB    | ########## | 100% \n",
      "Preparing transaction: ...working... done\n",
      "Verifying transaction: ...working... done\n",
      "Executing transaction: ...working... done\n",
      "\n",
      "Note: you may need to restart the kernel to use updated packages.\n"
     ]
    },
    {
     "name": "stderr",
     "output_type": "stream",
     "text": [
      "\n",
      "\n",
      "==> WARNING: A newer version of conda exists. <==\n",
      "  current version: 4.10.1\n",
      "  latest version: 4.13.0\n",
      "\n",
      "Please update conda by running\n",
      "\n",
      "    $ conda update -n base -c defaults conda\n",
      "\n",
      "\n",
      "WARNING conda.gateways.disk.delete:unlink_or_rename_to_trash(144): Could not remove or rename C:\\Users\\EL7md\\anaconda3\\pkgs\\torchvision-0.3.0-py37_cu100_1.tar.bz2.  Please remove this file manually (you may need to reboot to free file handles)\n",
      "WARNING conda.gateways.disk.delete:unlink_or_rename_to_trash(144): Could not remove or rename C:\\Users\\EL7md\\anaconda3\\pkgs\\torchvision-0.3.0-py37_cu100_1\\info\\test\\test\\sanity_checks.ipynb.  Please remove this file manually (you may need to reboot to free file handles)\n"
     ]
    }
   ],
   "source": [
    "conda install -c conda-forge imbalanced-learn\n"
   ]
  },
  {
   "cell_type": "code",
   "execution_count": 13,
   "metadata": {},
   "outputs": [],
   "source": [
    "# import libraries\n",
    "import pandas as pd\n",
    "import numpy as np\n",
    "from sqlalchemy import create_engine\n",
    "from imblearn.over_sampling import SMOTE\n",
    "from xgboost import XGBClassifier\n",
    "from sklearn.metrics import f1_score\n",
    "from sklearn.ensemble import AdaBoostClassifier\n",
    "import visuals as vs\n",
    "import matplotlib as plt\n",
    "from collections import Counter"
   ]
  },
  {
   "cell_type": "code",
   "execution_count": 2,
   "metadata": {},
   "outputs": [
    {
     "data": {
      "text/html": [
       "<div>\n",
       "<style scoped>\n",
       "    .dataframe tbody tr th:only-of-type {\n",
       "        vertical-align: middle;\n",
       "    }\n",
       "\n",
       "    .dataframe tbody tr th {\n",
       "        vertical-align: top;\n",
       "    }\n",
       "\n",
       "    .dataframe thead th {\n",
       "        text-align: right;\n",
       "    }\n",
       "</style>\n",
       "<table border=\"1\" class=\"dataframe\">\n",
       "  <thead>\n",
       "    <tr style=\"text-align: right;\">\n",
       "      <th></th>\n",
       "      <th>low_qualified</th>\n",
       "      <th>day</th>\n",
       "      <th>month</th>\n",
       "      <th>year</th>\n",
       "      <th>hour</th>\n",
       "      <th>answer</th>\n",
       "      <th>apartment</th>\n",
       "      <th>background</th>\n",
       "      <th>best_time_to_call</th>\n",
       "      <th>called</th>\n",
       "      <th>...</th>\n",
       "      <th>campaign_village west oms</th>\n",
       "      <th>campaign_vresidence</th>\n",
       "      <th>campaign_vye</th>\n",
       "      <th>campaign_vye bedroom</th>\n",
       "      <th>campaign_webretargeting</th>\n",
       "      <th>campaign_zed</th>\n",
       "      <th>campaign_zed east</th>\n",
       "      <th>campaign_zed east a b testing lead generation</th>\n",
       "      <th>campaign_zed west</th>\n",
       "      <th>campaign_zedeastsms</th>\n",
       "    </tr>\n",
       "  </thead>\n",
       "  <tbody>\n",
       "    <tr>\n",
       "      <th>0</th>\n",
       "      <td>0</td>\n",
       "      <td>7</td>\n",
       "      <td>3</td>\n",
       "      <td>2022</td>\n",
       "      <td>12</td>\n",
       "      <td>0</td>\n",
       "      <td>0</td>\n",
       "      <td>0</td>\n",
       "      <td>0</td>\n",
       "      <td>0</td>\n",
       "      <td>...</td>\n",
       "      <td>0</td>\n",
       "      <td>0</td>\n",
       "      <td>0</td>\n",
       "      <td>0</td>\n",
       "      <td>0</td>\n",
       "      <td>0</td>\n",
       "      <td>0</td>\n",
       "      <td>0</td>\n",
       "      <td>0</td>\n",
       "      <td>0</td>\n",
       "    </tr>\n",
       "    <tr>\n",
       "      <th>1</th>\n",
       "      <td>0</td>\n",
       "      <td>16</td>\n",
       "      <td>9</td>\n",
       "      <td>2019</td>\n",
       "      <td>13</td>\n",
       "      <td>0</td>\n",
       "      <td>0</td>\n",
       "      <td>0</td>\n",
       "      <td>0</td>\n",
       "      <td>0</td>\n",
       "      <td>...</td>\n",
       "      <td>0</td>\n",
       "      <td>0</td>\n",
       "      <td>0</td>\n",
       "      <td>0</td>\n",
       "      <td>0</td>\n",
       "      <td>0</td>\n",
       "      <td>0</td>\n",
       "      <td>0</td>\n",
       "      <td>0</td>\n",
       "      <td>0</td>\n",
       "    </tr>\n",
       "    <tr>\n",
       "      <th>2</th>\n",
       "      <td>0</td>\n",
       "      <td>7</td>\n",
       "      <td>5</td>\n",
       "      <td>2022</td>\n",
       "      <td>2</td>\n",
       "      <td>0</td>\n",
       "      <td>0</td>\n",
       "      <td>0</td>\n",
       "      <td>0</td>\n",
       "      <td>0</td>\n",
       "      <td>...</td>\n",
       "      <td>0</td>\n",
       "      <td>0</td>\n",
       "      <td>0</td>\n",
       "      <td>0</td>\n",
       "      <td>0</td>\n",
       "      <td>0</td>\n",
       "      <td>0</td>\n",
       "      <td>0</td>\n",
       "      <td>0</td>\n",
       "      <td>0</td>\n",
       "    </tr>\n",
       "    <tr>\n",
       "      <th>3</th>\n",
       "      <td>0</td>\n",
       "      <td>19</td>\n",
       "      <td>12</td>\n",
       "      <td>2019</td>\n",
       "      <td>22</td>\n",
       "      <td>0</td>\n",
       "      <td>0</td>\n",
       "      <td>0</td>\n",
       "      <td>0</td>\n",
       "      <td>0</td>\n",
       "      <td>...</td>\n",
       "      <td>0</td>\n",
       "      <td>0</td>\n",
       "      <td>0</td>\n",
       "      <td>0</td>\n",
       "      <td>0</td>\n",
       "      <td>0</td>\n",
       "      <td>0</td>\n",
       "      <td>0</td>\n",
       "      <td>0</td>\n",
       "      <td>0</td>\n",
       "    </tr>\n",
       "    <tr>\n",
       "      <th>4</th>\n",
       "      <td>0</td>\n",
       "      <td>27</td>\n",
       "      <td>1</td>\n",
       "      <td>2022</td>\n",
       "      <td>5</td>\n",
       "      <td>0</td>\n",
       "      <td>0</td>\n",
       "      <td>0</td>\n",
       "      <td>0</td>\n",
       "      <td>0</td>\n",
       "      <td>...</td>\n",
       "      <td>0</td>\n",
       "      <td>0</td>\n",
       "      <td>0</td>\n",
       "      <td>0</td>\n",
       "      <td>0</td>\n",
       "      <td>0</td>\n",
       "      <td>0</td>\n",
       "      <td>0</td>\n",
       "      <td>0</td>\n",
       "      <td>0</td>\n",
       "    </tr>\n",
       "  </tbody>\n",
       "</table>\n",
       "<p>5 rows × 549 columns</p>\n",
       "</div>"
      ],
      "text/plain": [
       "   low_qualified  day  month  year  hour  answer  apartment  background  \\\n",
       "0              0    7      3  2022    12       0          0           0   \n",
       "1              0   16      9  2019    13       0          0           0   \n",
       "2              0    7      5  2022     2       0          0           0   \n",
       "3              0   19     12  2019    22       0          0           0   \n",
       "4              0   27      1  2022     5       0          0           0   \n",
       "\n",
       "   best_time_to_call  called  ...  campaign_village west oms  \\\n",
       "0                  0       0  ...                          0   \n",
       "1                  0       0  ...                          0   \n",
       "2                  0       0  ...                          0   \n",
       "3                  0       0  ...                          0   \n",
       "4                  0       0  ...                          0   \n",
       "\n",
       "   campaign_vresidence  campaign_vye  campaign_vye bedroom  \\\n",
       "0                    0             0                     0   \n",
       "1                    0             0                     0   \n",
       "2                    0             0                     0   \n",
       "3                    0             0                     0   \n",
       "4                    0             0                     0   \n",
       "\n",
       "   campaign_webretargeting  campaign_zed  campaign_zed east  \\\n",
       "0                        0             0                  0   \n",
       "1                        0             0                  0   \n",
       "2                        0             0                  0   \n",
       "3                        0             0                  0   \n",
       "4                        0             0                  0   \n",
       "\n",
       "   campaign_zed east a b testing lead generation  campaign_zed west  \\\n",
       "0                                              0                  0   \n",
       "1                                              0                  0   \n",
       "2                                              0                  0   \n",
       "3                                              0                  0   \n",
       "4                                              0                  0   \n",
       "\n",
       "   campaign_zedeastsms  \n",
       "0                    0  \n",
       "1                    0  \n",
       "2                    0  \n",
       "3                    0  \n",
       "4                    0  \n",
       "\n",
       "[5 rows x 549 columns]"
      ]
     },
     "execution_count": 2,
     "metadata": {},
     "output_type": "execute_result"
    }
   ],
   "source": [
    "# load the data from database\n",
    "engine=create_engine('sqlite:///nawytransformed.db')\n",
    "df=pd.read_sql_table('nawytransformed', con=engine)\n",
    "df.head()"
   ]
  },
  {
   "cell_type": "code",
   "execution_count": 3,
   "metadata": {},
   "outputs": [],
   "source": [
    "# split the dataset into training and testing sets\n",
    "df_train = df.head(56075)\n",
    "df_test = df.tail(14019)"
   ]
  },
  {
   "cell_type": "code",
   "execution_count": 4,
   "metadata": {},
   "outputs": [
    {
     "data": {
      "text/plain": [
       "<matplotlib.axes._subplots.AxesSubplot at 0x14cded40688>"
      ]
     },
     "execution_count": 4,
     "metadata": {},
     "output_type": "execute_result"
    },
    {
     "data": {
      "image/png": "[encoded data removed]",
      "text/plain": [
       "<Figure size 432x288 with 1 Axes>"
      ]
     },
     "metadata": {
      "needs_background": "light"
     },
     "output_type": "display_data"
    }
   ],
   "source": [
    "# visualize low_qualified column for train data\n",
    "df_train['low_qualified'].hist()"
   ]
  },
  {
   "cell_type": "code",
   "execution_count": 5,
   "metadata": {},
   "outputs": [
    {
     "data": {
      "text/plain": [
       "<matplotlib.axes._subplots.AxesSubplot at 0x14ca3955548>"
      ]
     },
     "execution_count": 5,
     "metadata": {},
     "output_type": "execute_result"
    },
    {
     "data": {
      "image/png": "[encoded data removed]",
      "text/plain": [
       "<Figure size 432x288 with 1 Axes>"
      ]
     },
     "metadata": {
      "needs_background": "light"
     },
     "output_type": "display_data"
    }
   ],
   "source": [
    "# visualize low_qualified column for test data\n",
    "df_test['low_qualified'].hist()"
   ]
  },
  {
   "cell_type": "code",
   "execution_count": 6,
   "metadata": {},
   "outputs": [],
   "source": [
    "# split the data to x any y\n",
    "y_train=df_train['low_qualified']\n",
    "x_train=df_train.drop('low_qualified',axis=1)\n",
    "y_test=df_test['low_qualified']\n",
    "x_test=df_test.drop('low_qualified',axis=1)"
   ]
  },
  {
   "cell_type": "code",
   "execution_count": 7,
   "metadata": {},
   "outputs": [],
   "source": [
    "# oversample the train data\n",
    "oversample=SMOTE()\n",
    "X,y=oversample.fit_resample(x_train,y_train)"
   ]
  },
  {
   "cell_type": "code",
   "execution_count": 14,
   "metadata": {},
   "outputs": [
    {
     "name": "stdout",
     "output_type": "stream",
     "text": [
      "class=0,n=43919\n",
      "class=1,n=43919\n"
     ]
    }
   ],
   "source": [
    "# check the number of data in the two classes\n",
    "counter=Counter(y)\n",
    "for k,v in counter.items():\n",
    "    dist=v/len(y)*100\n",
    "    print(f\"class={k},n={v}\")"
   ]
  },
  {
   "cell_type": "code",
   "execution_count": 8,
   "metadata": {},
   "outputs": [
    {
     "data": {
      "text/plain": [
       "(87838, 548)"
      ]
     },
     "execution_count": 8,
     "metadata": {},
     "output_type": "execute_result"
    }
   ],
   "source": [
    "X.shape"
   ]
  },
  {
   "cell_type": "code",
   "execution_count": 9,
   "metadata": {},
   "outputs": [
    {
     "data": {
      "text/plain": [
       "(87838,)"
      ]
     },
     "execution_count": 9,
     "metadata": {},
     "output_type": "execute_result"
    }
   ],
   "source": [
    "y.shape"
   ]
  },
  {
   "cell_type": "markdown",
   "metadata": {},
   "source": [
    "## Model Building\n"
   ]
  },
  {
   "cell_type": "code",
   "execution_count": 10,
   "metadata": {},
   "outputs": [
    {
     "name": "stderr",
     "output_type": "stream",
     "text": [
      "C:\\Users\\EL7md\\anaconda3\\lib\\site-packages\\xgboost\\sklearn.py:1224: UserWarning: The use of label encoder in XGBClassifier is deprecated and will be removed in a future release. To remove this warning, do the following: 1) Pass option use_label_encoder=False when constructing XGBClassifier object; and 2) Encode your labels (y) as integers starting with 0, i.e. 0, 1, 2, ..., [num_class - 1].\n",
      "  warnings.warn(label_encoder_deprecation_msg, UserWarning)\n"
     ]
    },
    {
     "name": "stdout",
     "output_type": "stream",
     "text": [
      "[21:36:25] WARNING: C:/Users/Administrator/workspace/xgboost-win64_release_1.5.1/src/learner.cc:1115: Starting in XGBoost 1.3.0, the default evaluation metric used with the objective 'binary:logistic' was changed from 'error' to 'logloss'. Explicitly set eval_metric if you'd like to restore the old behavior.\n"
     ]
    },
    {
     "data": {
      "text/plain": [
       "XGBClassifier(base_score=0.5, booster='gbtree', colsample_bylevel=1,\n",
       "              colsample_bynode=1, colsample_bytree=1, enable_categorical=False,\n",
       "              gamma=0, gpu_id=-1, importance_type=None,\n",
       "              interaction_constraints='', learning_rate=0.300000012,\n",
       "              max_delta_step=0, max_depth=6, min_child_weight=1, missing=nan,\n",
       "              monotone_constraints='()', n_estimators=100, n_jobs=8,\n",
       "              num_parallel_tree=1, predictor='auto', random_state=0,\n",
       "              reg_alpha=0, reg_lambda=1, scale_pos_weight=1, subsample=1,\n",
       "              tree_method='exact', validate_parameters=1, verbosity=None)"
      ]
     },
     "execution_count": 10,
     "metadata": {},
     "output_type": "execute_result"
    }
   ],
   "source": [
    "# fit XGboost classifer to the training resample data\n",
    "model = XGBClassifier()\n",
    "model.fit(X, y)"
   ]
  },
  {
   "cell_type": "code",
   "execution_count": 11,
   "metadata": {},
   "outputs": [],
   "source": [
    "# make predictions for test data\n",
    "y_pred = model.predict(x_test)"
   ]
  },
  {
   "cell_type": "code",
   "execution_count": 12,
   "metadata": {},
   "outputs": [
    {
     "data": {
      "text/plain": [
       "0.46737782188042665"
      ]
     },
     "execution_count": 12,
     "metadata": {},
     "output_type": "execute_result"
    }
   ],
   "source": [
    "#calculate F1 score\n",
    "f1_score(y_test, y_pred)\n"
   ]
  },
  {
   "cell_type": "markdown",
   "metadata": {},
   "source": [
    "> the f1_score is approx. 0.47 which is not good"
   ]
  },
  {
   "cell_type": "code",
   "execution_count": 13,
   "metadata": {},
   "outputs": [
    {
     "data": {
      "text/plain": [
       "AdaBoostClassifier()"
      ]
     },
     "execution_count": 13,
     "metadata": {},
     "output_type": "execute_result"
    }
   ],
   "source": [
    "# fit adaboost classifer to the training resample data\n",
    "model2 = AdaBoostClassifier()\n",
    "model2.fit(X, y)"
   ]
  },
  {
   "cell_type": "code",
   "execution_count": 14,
   "metadata": {},
   "outputs": [],
   "source": [
    "# make predictions for test data\n",
    "y_pred = model2.predict(x_test)"
   ]
  },
  {
   "cell_type": "code",
   "execution_count": 15,
   "metadata": {},
   "outputs": [
    {
     "data": {
      "text/plain": [
       "0.4310720335565056"
      ]
     },
     "execution_count": 15,
     "metadata": {},
     "output_type": "execute_result"
    }
   ],
   "source": [
    "#calculate F1 score\n",
    "f1_score(y_test, y_pred)"
   ]
  },
  {
   "cell_type": "markdown",
   "metadata": {},
   "source": [
    "> tried adaboost but its lower than XGboost"
   ]
  },
  {
   "cell_type": "markdown",
   "metadata": {},
   "source": [
    "## Model Tuning\n"
   ]
  },
  {
   "cell_type": "code",
   "execution_count": 15,
   "metadata": {},
   "outputs": [],
   "source": [
    "# Extract the feature importances using feature_importances_ \n",
    "importances = model.feature_importances_"
   ]
  },
  {
   "cell_type": "code",
   "execution_count": 29,
   "metadata": {},
   "outputs": [],
   "source": [
    "indices = np.argsort(importances)[::-1]\n",
    "important_features = X.columns.values[indices[:5]]"
   ]
  },
  {
   "cell_type": "code",
   "execution_count": 30,
   "metadata": {},
   "outputs": [
    {
     "data": {
      "text/plain": [
       "array(['campaign_none', 'campaign_north edge google auto',\n",
       "       'campaign_sodic lead generation new cooing',\n",
       "       'campaign_emaar lead generation cooing new',\n",
       "       'campaign_emaar lead generation cooing'], dtype=object)"
      ]
     },
     "execution_count": 30,
     "metadata": {},
     "output_type": "execute_result"
    }
   ],
   "source": [
    "important_features"
   ]
  },
  {
   "cell_type": "code",
   "execution_count": 31,
   "metadata": {},
   "outputs": [
    {
     "data": {
      "image/png": "[encoded data removed]",
      "text/plain": [
       "<Figure size 648x360 with 1 Axes>"
      ]
     },
     "metadata": {
      "needs_background": "light"
     },
     "output_type": "display_data"
    }
   ],
   "source": [
    "# Plot\n",
    "vs.feature_plot(importances, X, y)"
   ]
  },
  {
   "cell_type": "code",
   "execution_count": 32,
   "metadata": {},
   "outputs": [],
   "source": [
    "# Reduce the feature space\n",
    "X_train_reduced = X[X.columns.values[indices[:5]]]\n",
    "X_test_reduced = x_test[x_test.columns.values[indices[:5]]]"
   ]
  },
  {
   "cell_type": "code",
   "execution_count": 33,
   "metadata": {},
   "outputs": [
    {
     "name": "stderr",
     "output_type": "stream",
     "text": [
      "C:\\Users\\EL7md\\anaconda3\\lib\\site-packages\\xgboost\\sklearn.py:1224: UserWarning: The use of label encoder in XGBClassifier is deprecated and will be removed in a future release. To remove this warning, do the following: 1) Pass option use_label_encoder=False when constructing XGBClassifier object; and 2) Encode your labels (y) as integers starting with 0, i.e. 0, 1, 2, ..., [num_class - 1].\n",
      "  warnings.warn(label_encoder_deprecation_msg, UserWarning)\n"
     ]
    },
    {
     "name": "stdout",
     "output_type": "stream",
     "text": [
      "[21:54:43] WARNING: C:/Users/Administrator/workspace/xgboost-win64_release_1.5.1/src/learner.cc:1115: Starting in XGBoost 1.3.0, the default evaluation metric used with the objective 'binary:logistic' was changed from 'error' to 'logloss'. Explicitly set eval_metric if you'd like to restore the old behavior.\n"
     ]
    },
    {
     "data": {
      "text/plain": [
       "0.45953118089341"
      ]
     },
     "execution_count": 33,
     "metadata": {},
     "output_type": "execute_result"
    }
   ],
   "source": [
    "# fit the tuned model\n",
    "tuned_model=model.fit(X_train_reduced, y)\n",
    "# Make new predictions\n",
    "reduced_predictions = tuned_model.predict(X_test_reduced)\n",
    "#calculate F1 score\n",
    "f1_score(y_test, reduced_predictions)"
   ]
  },
  {
   "cell_type": "markdown",
   "metadata": {},
   "source": [
    "> tried feature importance to reduce features but f1 score is still small"
   ]
  },
  {
   "cell_type": "code",
   "execution_count": null,
   "metadata": {},
   "outputs": [],
   "source": []
  }
 ],
 "metadata": {
  "kernelspec": {
   "display_name": "Python 3",
   "language": "python",
   "name": "python3"
  },
  "language_info": {
   "codemirror_mode": {
    "name": "ipython",
    "version": 3
   },
   "file_extension": ".py",
   "mimetype": "text/x-python",
   "name": "python",
   "nbconvert_exporter": "python",
   "pygments_lexer": "ipython3",
   "version": "3.7.4"
  }
 },
 "nbformat": 4,
 "nbformat_minor": 1
}
